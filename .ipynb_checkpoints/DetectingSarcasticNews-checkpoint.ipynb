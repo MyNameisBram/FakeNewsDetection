{
 "cells": [
  {
   "cell_type": "code",
   "execution_count": 2,
   "metadata": {},
   "outputs": [],
   "source": [
    "import time \n",
    "start_time = time.time()\n"
   ]
  },
  {
   "cell_type": "markdown",
   "metadata": {},
   "source": [
    "## Final Project Submission\n",
    "\n",
    "Please fill out:\n",
    "* Student name: Bram Tunggala\n",
    "* Student pace: full time\n",
    "* Scheduled project review date/time: June 12 @4pm \n",
    "* Instructor name: Brandon Lewis\n",
    "* Blog post URL: https://mynameisbram.github.io/data_science_process_from_start_to_finish"
   ]
  },
  {
   "cell_type": "markdown",
   "metadata": {},
   "source": [
    "# Using News Headlines to Detect Sarcasm "
   ]
  },
  {
   "cell_type": "markdown",
   "metadata": {},
   "source": [
    "# Obtaining our data \n",
    "---\n",
    "[News Headlines dataset for Sarcasm Detection](https://www.kaggle.com/rmisra/news-headlines-dataset-for-sarcasm-detection) is collected from two news website. TheOnion (sarcastic) and HuffPost (real). \n",
    "\n",
    "Each record consist of three attributes: \n",
    "\n",
    "1) `is_sarcastic`, 1 if the record is sarcastic 0 if not. \n",
    "\n",
    "2) `headline`, the headline of the news article \n",
    "\n",
    "3) `article_link`, link to original article. "
   ]
  },
  {
   "cell_type": "code",
   "execution_count": 3,
   "metadata": {},
   "outputs": [],
   "source": [
    "import pandas as pd \n",
    "import numpy as np \n",
    "import matplotlib.pyplot as plt\n",
    "%matplotlib inline"
   ]
  },
  {
   "cell_type": "code",
   "execution_count": 4,
   "metadata": {},
   "outputs": [],
   "source": [
    "df = pd.read_json('Sarcasm_Headlines_Dataset.json', lines=True)"
   ]
  },
  {
   "cell_type": "code",
   "execution_count": 5,
   "metadata": {},
   "outputs": [
    {
     "data": {
      "text/html": [
       "<div>\n",
       "<style scoped>\n",
       "    .dataframe tbody tr th:only-of-type {\n",
       "        vertical-align: middle;\n",
       "    }\n",
       "\n",
       "    .dataframe tbody tr th {\n",
       "        vertical-align: top;\n",
       "    }\n",
       "\n",
       "    .dataframe thead th {\n",
       "        text-align: right;\n",
       "    }\n",
       "</style>\n",
       "<table border=\"1\" class=\"dataframe\">\n",
       "  <thead>\n",
       "    <tr style=\"text-align: right;\">\n",
       "      <th></th>\n",
       "      <th>article_link</th>\n",
       "      <th>headline</th>\n",
       "      <th>is_sarcastic</th>\n",
       "    </tr>\n",
       "  </thead>\n",
       "  <tbody>\n",
       "    <tr>\n",
       "      <th>0</th>\n",
       "      <td>https://www.huffingtonpost.com/entry/versace-b...</td>\n",
       "      <td>former versace store clerk sues over secret 'b...</td>\n",
       "      <td>0</td>\n",
       "    </tr>\n",
       "    <tr>\n",
       "      <th>1</th>\n",
       "      <td>https://www.huffingtonpost.com/entry/roseanne-...</td>\n",
       "      <td>the 'roseanne' revival catches up to our thorn...</td>\n",
       "      <td>0</td>\n",
       "    </tr>\n",
       "    <tr>\n",
       "      <th>2</th>\n",
       "      <td>https://local.theonion.com/mom-starting-to-fea...</td>\n",
       "      <td>mom starting to fear son's web series closest ...</td>\n",
       "      <td>1</td>\n",
       "    </tr>\n",
       "    <tr>\n",
       "      <th>3</th>\n",
       "      <td>https://politics.theonion.com/boehner-just-wan...</td>\n",
       "      <td>boehner just wants wife to listen, not come up...</td>\n",
       "      <td>1</td>\n",
       "    </tr>\n",
       "    <tr>\n",
       "      <th>4</th>\n",
       "      <td>https://www.huffingtonpost.com/entry/jk-rowlin...</td>\n",
       "      <td>j.k. rowling wishes snape happy birthday in th...</td>\n",
       "      <td>0</td>\n",
       "    </tr>\n",
       "  </tbody>\n",
       "</table>\n",
       "</div>"
      ],
      "text/plain": [
       "                                        article_link  \\\n",
       "0  https://www.huffingtonpost.com/entry/versace-b...   \n",
       "1  https://www.huffingtonpost.com/entry/roseanne-...   \n",
       "2  https://local.theonion.com/mom-starting-to-fea...   \n",
       "3  https://politics.theonion.com/boehner-just-wan...   \n",
       "4  https://www.huffingtonpost.com/entry/jk-rowlin...   \n",
       "\n",
       "                                            headline  is_sarcastic  \n",
       "0  former versace store clerk sues over secret 'b...             0  \n",
       "1  the 'roseanne' revival catches up to our thorn...             0  \n",
       "2  mom starting to fear son's web series closest ...             1  \n",
       "3  boehner just wants wife to listen, not come up...             1  \n",
       "4  j.k. rowling wishes snape happy birthday in th...             0  "
      ]
     },
     "execution_count": 5,
     "metadata": {},
     "output_type": "execute_result"
    }
   ],
   "source": [
    "df.head()"
   ]
  },
  {
   "cell_type": "code",
   "execution_count": 6,
   "metadata": {},
   "outputs": [
    {
     "name": "stdout",
     "output_type": "stream",
     "text": [
      "<class 'pandas.core.frame.DataFrame'>\n",
      "RangeIndex: 26709 entries, 0 to 26708\n",
      "Data columns (total 3 columns):\n",
      "article_link    26709 non-null object\n",
      "headline        26709 non-null object\n",
      "is_sarcastic    26709 non-null int64\n",
      "dtypes: int64(1), object(2)\n",
      "memory usage: 626.1+ KB\n"
     ]
    }
   ],
   "source": [
    "df.info()"
   ]
  },
  {
   "cell_type": "markdown",
   "metadata": {},
   "source": [
    "# Exploratory Data Analysis\n",
    "---\n",
    "Importing necessary libraries for visualization."
   ]
  },
  {
   "cell_type": "code",
   "execution_count": 7,
   "metadata": {},
   "outputs": [
    {
     "data": {
      "text/html": [
       "<script>requirejs.config({paths: { 'plotly': ['https://cdn.plot.ly/plotly-latest.min']},});if(!window.Plotly) {{require(['plotly'],function(plotly) {window.Plotly=plotly;});}}</script>"
      ],
      "text/vnd.plotly.v1+html": [
       "<script>requirejs.config({paths: { 'plotly': ['https://cdn.plot.ly/plotly-latest.min']},});if(!window.Plotly) {{require(['plotly'],function(plotly) {window.Plotly=plotly;});}}</script>"
      ]
     },
     "metadata": {},
     "output_type": "display_data"
    }
   ],
   "source": [
    "#plotly library for visualization \n",
    "import plotly.plotly as py \n",
    "import plotly.graph_objs as go \n",
    "from plotly.offline import download_plotlyjs, plot, iplot, init_notebook_mode\n",
    "init_notebook_mode(connected=True)"
   ]
  },
  {
   "cell_type": "markdown",
   "metadata": {},
   "source": [
    "Percentage breakdown of sarcastic news vs. real news."
   ]
  },
  {
   "cell_type": "code",
   "execution_count": 8,
   "metadata": {},
   "outputs": [
    {
     "data": {
      "application/vnd.plotly.v1+json": {
       "data": [
        {
         "hoverinfo": "label+percent",
         "labels": [
          "Real News",
          "Sarcastic News"
         ],
         "marker": {
          "colors": [
           "#58D68D",
           "#9B59B6"
          ],
          "line": {
           "color": "#FFFFFF",
           "width": 2
          }
         },
         "type": "pie",
         "uid": "3d17acc8-8d68-11e9-850a-8c85904900de",
         "values": [
          56.10468381444457,
          43.89531618555543
         ]
        }
       ],
       "layout": {
        "title": "Sarcastics News vs. Real News"
       }
      },
      "text/html": [
       "<div id=\"9b0f95e5-8c43-423b-b849-ae61063ab10f\" style=\"height: 525px; width: 100%;\" class=\"plotly-graph-div\"></div><script type=\"text/javascript\">require([\"plotly\"], function(Plotly) { window.PLOTLYENV=window.PLOTLYENV || {};window.PLOTLYENV.BASE_URL=\"https://plot.ly\";\n",
       "        Plotly.plot(\n",
       "            '9b0f95e5-8c43-423b-b849-ae61063ab10f',\n",
       "            [{\"hoverinfo\": \"label+percent\", \"labels\": [\"Real News\", \"Sarcastic News\"], \"marker\": {\"colors\": [\"#58D68D\", \"#9B59B6\"], \"line\": {\"color\": \"#FFFFFF\", \"width\": 2}}, \"values\": [56.10468381444457, 43.89531618555543], \"type\": \"pie\", \"uid\": \"3d17acc8-8d68-11e9-850a-8c85904900de\"}],\n",
       "            {\"title\": \"Sarcastics News vs. Real News\"},\n",
       "            {\"showLink\": true, \"linkText\": \"Export to plot.ly\"}\n",
       "        ).then(function () {return Plotly.addFrames('9b0f95e5-8c43-423b-b849-ae61063ab10f',{});}).then(function(){Plotly.animate('9b0f95e5-8c43-423b-b849-ae61063ab10f');})\n",
       "        });</script>"
      ],
      "text/vnd.plotly.v1+html": [
       "<div id=\"9b0f95e5-8c43-423b-b849-ae61063ab10f\" style=\"height: 525px; width: 100%;\" class=\"plotly-graph-div\"></div><script type=\"text/javascript\">require([\"plotly\"], function(Plotly) { window.PLOTLYENV=window.PLOTLYENV || {};window.PLOTLYENV.BASE_URL=\"https://plot.ly\";\n",
       "        Plotly.plot(\n",
       "            '9b0f95e5-8c43-423b-b849-ae61063ab10f',\n",
       "            [{\"hoverinfo\": \"label+percent\", \"labels\": [\"Real News\", \"Sarcastic News\"], \"marker\": {\"colors\": [\"#58D68D\", \"#9B59B6\"], \"line\": {\"color\": \"#FFFFFF\", \"width\": 2}}, \"values\": [56.10468381444457, 43.89531618555543], \"type\": \"pie\", \"uid\": \"3d17acc8-8d68-11e9-850a-8c85904900de\"}],\n",
       "            {\"title\": \"Sarcastics News vs. Real News\"},\n",
       "            {\"showLink\": true, \"linkText\": \"Export to plot.ly\"}\n",
       "        ).then(function () {return Plotly.addFrames('9b0f95e5-8c43-423b-b849-ae61063ab10f',{});}).then(function(){Plotly.animate('9b0f95e5-8c43-423b-b849-ae61063ab10f');})\n",
       "        });</script>"
      ]
     },
     "metadata": {},
     "output_type": "display_data"
    }
   ],
   "source": [
    "df_sar = df.is_sarcastic.value_counts()\n",
    "labels = ['Real News', 'Sarcastic News']\n",
    "sizes = np.array((df_sar/ df_sar.sum()) *100)\n",
    "colors = ['#58D68D', '#9B59B6']\n",
    "\n",
    "graph = go.Pie(labels=labels, values=sizes, hoverinfo='label + percent',\n",
    "              marker=dict(colors=colors, line=dict(color='#FFFFFF', width=2)))\n",
    "layout = go.Layout(title='Sarcastics News vs. Real News')\n",
    "data = [graph]\n",
    "\n",
    "fig= go.Figure(data=data, layout=layout)\n",
    "iplot(fig, filename='Sarcastic_Real')\n"
   ]
  },
  {
   "cell_type": "markdown",
   "metadata": {},
   "source": [
    "Below is a graph of the most frequent words in headlines.\n"
   ]
  },
  {
   "cell_type": "code",
   "execution_count": 9,
   "metadata": {},
   "outputs": [
    {
     "data": {
      "application/vnd.plotly.v1+json": {
       "data": [
        {
         "marker": {
          "color": [
           5177,
           4170,
           3297,
           2961,
           2371,
           1885,
           1797,
           1666,
           1485,
           1229,
           1221,
           1189,
           1157,
           1051,
           914,
           885,
           882,
           838,
           812,
           802,
           773,
           770,
           753,
           731,
           723,
           699,
           648,
           648,
           630,
           613,
           578,
           570,
           564,
           559,
           551,
           531,
           524,
           513,
           489,
           489,
           487,
           484,
           468,
           466,
           450,
           438,
           420,
           410,
           391,
           389,
           388,
           387,
           385,
           384,
           382,
           369,
           368,
           345,
           341,
           336,
           334,
           326,
           325,
           323,
           320,
           320,
           319,
           314,
           312,
           310,
           301,
           294,
           290,
           288,
           286,
           284,
           281,
           279,
           276,
           271,
           265,
           257,
           257,
           254,
           253,
           249,
           245,
           244,
           244,
           238,
           235,
           231,
           230,
           229,
           228,
           228,
           227,
           226
          ],
          "colorscale": "Viridis"
         },
         "text": "Word counts",
         "type": "bar",
         "uid": "3d958a94-8d68-11e9-b48f-8c85904900de",
         "x": [
          "the",
          "in",
          "for",
          "a",
          "on",
          "and",
          "with",
          "is",
          "new",
          "man",
          "from",
          "at",
          "trump",
          "about",
          "you",
          "by",
          "this",
          "after",
          "be",
          "how",
          "out",
          "as",
          "that",
          "up",
          "it",
          "not",
          "your",
          "are",
          "his",
          "what",
          "he",
          "just",
          "who",
          "has",
          "will",
          "more",
          "all",
          "into",
          "why",
          "have",
          "one",
          "area",
          "donald",
          "over",
          "says",
          "can",
          "woman",
          "u.s."
         ],
         "y": [
          5177,
          4170,
          3297,
          2961,
          2371,
          1885,
          1797,
          1666,
          1485,
          1229,
          1221,
          1189,
          1157,
          1051,
          914,
          885,
          882,
          838,
          812,
          802,
          773,
          770,
          753,
          731,
          723,
          699,
          648,
          648,
          630,
          613,
          578,
          570,
          564,
          559,
          551,
          531,
          524,
          513,
          489,
          489,
          487,
          484,
          468,
          466,
          450,
          438,
          420,
          410
         ]
        }
       ],
       "layout": {
        "title": "Most Frequent Words (unclean) in Headlines"
       }
      },
      "text/html": [
       "<div id=\"5eccd73c-34a6-443c-9a21-f4ca24f98bd0\" style=\"height: 525px; width: 100%;\" class=\"plotly-graph-div\"></div><script type=\"text/javascript\">require([\"plotly\"], function(Plotly) { window.PLOTLYENV=window.PLOTLYENV || {};window.PLOTLYENV.BASE_URL=\"https://plot.ly\";\n",
       "        Plotly.plot(\n",
       "            '5eccd73c-34a6-443c-9a21-f4ca24f98bd0',\n",
       "            [{\"marker\": {\"color\": [5177.0, 4170.0, 3297.0, 2961.0, 2371.0, 1885.0, 1797.0, 1666.0, 1485.0, 1229.0, 1221.0, 1189.0, 1157.0, 1051.0, 914.0, 885.0, 882.0, 838.0, 812.0, 802.0, 773.0, 770.0, 753.0, 731.0, 723.0, 699.0, 648.0, 648.0, 630.0, 613.0, 578.0, 570.0, 564.0, 559.0, 551.0, 531.0, 524.0, 513.0, 489.0, 489.0, 487.0, 484.0, 468.0, 466.0, 450.0, 438.0, 420.0, 410.0, 391.0, 389.0, 388.0, 387.0, 385.0, 384.0, 382.0, 369.0, 368.0, 345.0, 341.0, 336.0, 334.0, 326.0, 325.0, 323.0, 320.0, 320.0, 319.0, 314.0, 312.0, 310.0, 301.0, 294.0, 290.0, 288.0, 286.0, 284.0, 281.0, 279.0, 276.0, 271.0, 265.0, 257.0, 257.0, 254.0, 253.0, 249.0, 245.0, 244.0, 244.0, 238.0, 235.0, 231.0, 230.0, 229.0, 228.0, 228.0, 227.0, 226.0], \"colorscale\": \"Viridis\"}, \"text\": \"Word counts\", \"x\": [\"the\", \"in\", \"for\", \"a\", \"on\", \"and\", \"with\", \"is\", \"new\", \"man\", \"from\", \"at\", \"trump\", \"about\", \"you\", \"by\", \"this\", \"after\", \"be\", \"how\", \"out\", \"as\", \"that\", \"up\", \"it\", \"not\", \"your\", \"are\", \"his\", \"what\", \"he\", \"just\", \"who\", \"has\", \"will\", \"more\", \"all\", \"into\", \"why\", \"have\", \"one\", \"area\", \"donald\", \"over\", \"says\", \"can\", \"woman\", \"u.s.\"], \"y\": [5177.0, 4170.0, 3297.0, 2961.0, 2371.0, 1885.0, 1797.0, 1666.0, 1485.0, 1229.0, 1221.0, 1189.0, 1157.0, 1051.0, 914.0, 885.0, 882.0, 838.0, 812.0, 802.0, 773.0, 770.0, 753.0, 731.0, 723.0, 699.0, 648.0, 648.0, 630.0, 613.0, 578.0, 570.0, 564.0, 559.0, 551.0, 531.0, 524.0, 513.0, 489.0, 489.0, 487.0, 484.0, 468.0, 466.0, 450.0, 438.0, 420.0, 410.0], \"type\": \"bar\", \"uid\": \"3d958a94-8d68-11e9-b48f-8c85904900de\"}],\n",
       "            {\"title\": \"Most Frequent Words (unclean) in Headlines\"},\n",
       "            {\"showLink\": true, \"linkText\": \"Export to plot.ly\"}\n",
       "        ).then(function () {return Plotly.addFrames('5eccd73c-34a6-443c-9a21-f4ca24f98bd0',{});}).then(function(){Plotly.animate('5eccd73c-34a6-443c-9a21-f4ca24f98bd0');})\n",
       "        });</script>"
      ],
      "text/vnd.plotly.v1+html": [
       "<div id=\"5eccd73c-34a6-443c-9a21-f4ca24f98bd0\" style=\"height: 525px; width: 100%;\" class=\"plotly-graph-div\"></div><script type=\"text/javascript\">require([\"plotly\"], function(Plotly) { window.PLOTLYENV=window.PLOTLYENV || {};window.PLOTLYENV.BASE_URL=\"https://plot.ly\";\n",
       "        Plotly.plot(\n",
       "            '5eccd73c-34a6-443c-9a21-f4ca24f98bd0',\n",
       "            [{\"marker\": {\"color\": [5177.0, 4170.0, 3297.0, 2961.0, 2371.0, 1885.0, 1797.0, 1666.0, 1485.0, 1229.0, 1221.0, 1189.0, 1157.0, 1051.0, 914.0, 885.0, 882.0, 838.0, 812.0, 802.0, 773.0, 770.0, 753.0, 731.0, 723.0, 699.0, 648.0, 648.0, 630.0, 613.0, 578.0, 570.0, 564.0, 559.0, 551.0, 531.0, 524.0, 513.0, 489.0, 489.0, 487.0, 484.0, 468.0, 466.0, 450.0, 438.0, 420.0, 410.0, 391.0, 389.0, 388.0, 387.0, 385.0, 384.0, 382.0, 369.0, 368.0, 345.0, 341.0, 336.0, 334.0, 326.0, 325.0, 323.0, 320.0, 320.0, 319.0, 314.0, 312.0, 310.0, 301.0, 294.0, 290.0, 288.0, 286.0, 284.0, 281.0, 279.0, 276.0, 271.0, 265.0, 257.0, 257.0, 254.0, 253.0, 249.0, 245.0, 244.0, 244.0, 238.0, 235.0, 231.0, 230.0, 229.0, 228.0, 228.0, 227.0, 226.0], \"colorscale\": \"Viridis\"}, \"text\": \"Word counts\", \"x\": [\"the\", \"in\", \"for\", \"a\", \"on\", \"and\", \"with\", \"is\", \"new\", \"man\", \"from\", \"at\", \"trump\", \"about\", \"you\", \"by\", \"this\", \"after\", \"be\", \"how\", \"out\", \"as\", \"that\", \"up\", \"it\", \"not\", \"your\", \"are\", \"his\", \"what\", \"he\", \"just\", \"who\", \"has\", \"will\", \"more\", \"all\", \"into\", \"why\", \"have\", \"one\", \"area\", \"donald\", \"over\", \"says\", \"can\", \"woman\", \"u.s.\"], \"y\": [5177.0, 4170.0, 3297.0, 2961.0, 2371.0, 1885.0, 1797.0, 1666.0, 1485.0, 1229.0, 1221.0, 1189.0, 1157.0, 1051.0, 914.0, 885.0, 882.0, 838.0, 812.0, 802.0, 773.0, 770.0, 753.0, 731.0, 723.0, 699.0, 648.0, 648.0, 630.0, 613.0, 578.0, 570.0, 564.0, 559.0, 551.0, 531.0, 524.0, 513.0, 489.0, 489.0, 487.0, 484.0, 468.0, 466.0, 450.0, 438.0, 420.0, 410.0], \"type\": \"bar\", \"uid\": \"3d958a94-8d68-11e9-b48f-8c85904900de\"}],\n",
       "            {\"title\": \"Most Frequent Words (unclean) in Headlines\"},\n",
       "            {\"showLink\": true, \"linkText\": \"Export to plot.ly\"}\n",
       "        ).then(function () {return Plotly.addFrames('5eccd73c-34a6-443c-9a21-f4ca24f98bd0',{});}).then(function(){Plotly.animate('5eccd73c-34a6-443c-9a21-f4ca24f98bd0');})\n",
       "        });</script>"
      ]
     },
     "metadata": {},
     "output_type": "display_data"
    }
   ],
   "source": [
    "all_words = df['headline'].str.split(expand=True).unstack().value_counts()\n",
    "data = [go.Bar(\n",
    "            x = all_words.index.values[2:50],\n",
    "            y = all_words.values[2:50],\n",
    "            marker= dict(colorscale='Viridis',\n",
    "                         color = all_words.values[2:100]\n",
    "                        ),\n",
    "            text='Word counts'\n",
    "    )]\n",
    "\n",
    "layout = go.Layout(\n",
    "    title='Most Frequent Words (unclean) in Headlines'\n",
    ")\n",
    "\n",
    "fig = go.Figure(data=data, layout=layout)\n",
    "\n",
    "iplot(fig, filename='basic-bar')"
   ]
  },
  {
   "cell_type": "markdown",
   "metadata": {},
   "source": [
    "From the above graph, we can see that the headlines needs to be cleaned, as the top most occurring words are considered to be \"stop words\", in NLP, stop words are considered useless. "
   ]
  },
  {
   "cell_type": "markdown",
   "metadata": {},
   "source": [
    "## Tokenization \n",
    "---\n",
    "Tokenization is used to convert text into vectors."
   ]
  },
  {
   "cell_type": "code",
   "execution_count": 10,
   "metadata": {},
   "outputs": [],
   "source": [
    "import nltk \n",
    "import itertools "
   ]
  },
  {
   "cell_type": "code",
   "execution_count": 11,
   "metadata": {},
   "outputs": [],
   "source": [
    "sar_df = df[df.is_sarcastic ==1]\n",
    "real_df = df[df.is_sarcastic ==0]\n"
   ]
  },
  {
   "cell_type": "code",
   "execution_count": 12,
   "metadata": {},
   "outputs": [
    {
     "data": {
      "text/html": [
       "<div>\n",
       "<style scoped>\n",
       "    .dataframe tbody tr th:only-of-type {\n",
       "        vertical-align: middle;\n",
       "    }\n",
       "\n",
       "    .dataframe tbody tr th {\n",
       "        vertical-align: top;\n",
       "    }\n",
       "\n",
       "    .dataframe thead th {\n",
       "        text-align: right;\n",
       "    }\n",
       "</style>\n",
       "<table border=\"1\" class=\"dataframe\">\n",
       "  <thead>\n",
       "    <tr style=\"text-align: right;\">\n",
       "      <th></th>\n",
       "      <th>article_link</th>\n",
       "      <th>headline</th>\n",
       "      <th>is_sarcastic</th>\n",
       "    </tr>\n",
       "  </thead>\n",
       "  <tbody>\n",
       "    <tr>\n",
       "      <th>0</th>\n",
       "      <td>https://www.huffingtonpost.com/entry/versace-b...</td>\n",
       "      <td>former versace store clerk sues over secret 'b...</td>\n",
       "      <td>0</td>\n",
       "    </tr>\n",
       "    <tr>\n",
       "      <th>1</th>\n",
       "      <td>https://www.huffingtonpost.com/entry/roseanne-...</td>\n",
       "      <td>the 'roseanne' revival catches up to our thorn...</td>\n",
       "      <td>0</td>\n",
       "    </tr>\n",
       "    <tr>\n",
       "      <th>2</th>\n",
       "      <td>https://www.huffingtonpost.com/entry/jk-rowlin...</td>\n",
       "      <td>j.k. rowling wishes snape happy birthday in th...</td>\n",
       "      <td>0</td>\n",
       "    </tr>\n",
       "    <tr>\n",
       "      <th>3</th>\n",
       "      <td>https://www.huffingtonpost.com/entry/advancing...</td>\n",
       "      <td>advancing the world's women</td>\n",
       "      <td>0</td>\n",
       "    </tr>\n",
       "    <tr>\n",
       "      <th>4</th>\n",
       "      <td>https://www.huffingtonpost.com/entry/how-meat-...</td>\n",
       "      <td>the fascinating case for eating lab-grown meat</td>\n",
       "      <td>0</td>\n",
       "    </tr>\n",
       "  </tbody>\n",
       "</table>\n",
       "</div>"
      ],
      "text/plain": [
       "                                        article_link  \\\n",
       "0  https://www.huffingtonpost.com/entry/versace-b...   \n",
       "1  https://www.huffingtonpost.com/entry/roseanne-...   \n",
       "2  https://www.huffingtonpost.com/entry/jk-rowlin...   \n",
       "3  https://www.huffingtonpost.com/entry/advancing...   \n",
       "4  https://www.huffingtonpost.com/entry/how-meat-...   \n",
       "\n",
       "                                            headline  is_sarcastic  \n",
       "0  former versace store clerk sues over secret 'b...             0  \n",
       "1  the 'roseanne' revival catches up to our thorn...             0  \n",
       "2  j.k. rowling wishes snape happy birthday in th...             0  \n",
       "3                        advancing the world's women             0  \n",
       "4     the fascinating case for eating lab-grown meat             0  "
      ]
     },
     "execution_count": 12,
     "metadata": {},
     "output_type": "execute_result"
    }
   ],
   "source": [
    "sar_df.reset_index(drop=True, inplace=True)\n",
    "real_df.reset_index(drop=True, inplace=True)\n",
    "real_df.head()"
   ]
  },
  {
   "cell_type": "code",
   "execution_count": 13,
   "metadata": {},
   "outputs": [],
   "source": [
    "#tokenizing headlines for sarcasm\n",
    "sar_news = [] \n",
    "for i in range(0, sar_df.shape[0]): \n",
    "    head_txt = sar_df.headline[i]\n",
    "    head_txt = head_txt.split(' ')\n",
    "    sar_news.append(head_txt)\n",
    "\n",
    "    \n",
    "real_news = []\n",
    "for i in range(0, real_df.shape[0]):\n",
    "    head_txt = real_df.headline[i]\n",
    "    head_txt = head_txt.split(' ')\n",
    "    real_news.append(head_txt)\n",
    "    \n",
    "#converting into single list\n",
    "sar_list = list(itertools.chain(*sar_news))\n",
    "real_list = list(itertools.chain(*real_news))"
   ]
  },
  {
   "cell_type": "code",
   "execution_count": 14,
   "metadata": {},
   "outputs": [],
   "source": [
    "sarcastic = sar_df.apply(lambda row: nltk.word_tokenize(row['headline']), axis=1)"
   ]
  },
  {
   "cell_type": "code",
   "execution_count": 15,
   "metadata": {},
   "outputs": [
    {
     "data": {
      "text/plain": [
       "(11724,)"
      ]
     },
     "execution_count": 15,
     "metadata": {},
     "output_type": "execute_result"
    }
   ],
   "source": [
    "np.shape(sarcastic)"
   ]
  },
  {
   "cell_type": "code",
   "execution_count": 16,
   "metadata": {},
   "outputs": [],
   "source": [
    "#intializing stopwords from nltk corpus \n",
    "stopwords = nltk.corpus.stopwords.words('english')\n",
    "\n",
    "#creating a new list without stopwords \n",
    "sar_list_stp = [word for word in sar_list if word.lower() not in stopwords]\n",
    "real_list_stp = [word for word in real_list if word.lower() not in stopwords]"
   ]
  },
  {
   "cell_type": "markdown",
   "metadata": {},
   "source": [
    "Top 10 most occurring words in both sarcastic and real news headlines"
   ]
  },
  {
   "cell_type": "code",
   "execution_count": 17,
   "metadata": {},
   "outputs": [],
   "source": [
    "from collections import Counter \n",
    "\n",
    "#creating a dictionary with word as key and word count as value\n",
    "sar_cnt = Counter(sar_list_stp)\n",
    "real_cnt = Counter(real_list_stp)\n",
    "\n"
   ]
  },
  {
   "cell_type": "code",
   "execution_count": 18,
   "metadata": {},
   "outputs": [],
   "source": [
    "#dictionary to DataFrame\n",
    "sar_cnt = pd.DataFrame(list(sar_cnt.items()), columns= ['Words', 'Count'])\n",
    "sar_cnt.sort_values(by=['Count'], ascending= False, inplace=True)\n",
    "real_cnt = pd.DataFrame(list(real_cnt.items()), columns= ['Words', 'Count'])\n",
    "real_cnt.sort_values(by=['Count'], ascending= False, inplace=True)\n",
    "\n",
    "#top 10 \n",
    "sar_top10 = sar_cnt.head(10)\n",
    "real_top10 = real_cnt.head(10)\n",
    "        "
   ]
  },
  {
   "cell_type": "code",
   "execution_count": 19,
   "metadata": {},
   "outputs": [
    {
     "name": "stdout",
     "output_type": "stream",
     "text": [
      "This is the format of your plot grid:\n",
      "[ (1,1) x1,y1 ]\n",
      "[ (2,1) x2,y2 ]\n",
      "\n"
     ]
    },
    {
     "name": "stderr",
     "output_type": "stream",
     "text": [
      "/anaconda3/envs/learn-env/lib/python3.6/site-packages/plotly/graph_objs/_deprecations.py:318: DeprecationWarning:\n",
      "\n",
      "plotly.graph_objs.Font is deprecated.\n",
      "Please replace it with one of the following more specific types\n",
      "  - plotly.graph_objs.layout.Font\n",
      "  - plotly.graph_objs.layout.hoverlabel.Font\n",
      "  - etc.\n",
      "\n",
      "\n"
     ]
    },
    {
     "data": {
      "application/vnd.plotly.v1+json": {
       "data": [
        {
         "marker": {
          "color": "rgba(155, 89, 182, 0.6)",
          "line": {
           "color": "rgba(155, 89, 182, 1.0)",
           "width": 0.3
          }
         },
         "name": "Sarcastic News",
         "opacity": 0.6,
         "orientation": "h",
         "type": "bar",
         "uid": "40d2256e-8d68-11e9-a96b-8c85904900de",
         "x": [
          1021,
          821,
          477,
          360,
          290,
          253,
          213,
          208,
          207,
          200
         ],
         "xaxis": "x",
         "y": [
          "man",
          "new",
          "area",
          "report:",
          "woman",
          "one",
          "time",
          "still",
          "day",
          "trump"
         ],
         "yaxis": "y"
        },
        {
         "marker": {
          "color": "rgba(88, 214, 141, 0.6)",
          "line": {
           "color": "rgba(88, 214, 141, 1.0)",
           "width": 0.3
          }
         },
         "name": "Real News",
         "opacity": 0.6,
         "orientation": "h",
         "type": "bar",
         "uid": "40d4b3c6-8d68-11e9-b78f-8c85904900de",
         "x": [
          957,
          664,
          453,
          364,
          346,
          240,
          234,
          223,
          220,
          209
         ],
         "xaxis": "x2",
         "y": [
          "trump",
          "new",
          "donald",
          "trump's",
          "says",
          "women",
          "one",
          "u.s.",
          "first",
          "make"
         ],
         "yaxis": "y2"
        }
       ],
       "layout": {
        "annotations": [
         {
          "font": {
           "size": 16
          },
          "showarrow": false,
          "text": "Top 10 Most occuring words in Sarcastic News Headlines",
          "x": 0.5,
          "xanchor": "center",
          "xref": "paper",
          "y": 1,
          "yanchor": "bottom",
          "yref": "paper"
         },
         {
          "font": {
           "size": 16
          },
          "showarrow": false,
          "text": "Top 10 Most occuring words in Real News Headlines",
          "x": 0.5,
          "xanchor": "center",
          "xref": "paper",
          "y": 0.375,
          "yanchor": "bottom",
          "yref": "paper"
         }
        ],
        "height": 1200,
        "width": 800,
        "xaxis": {
         "anchor": "y",
         "domain": [
          0,
          1
         ]
        },
        "xaxis2": {
         "anchor": "y2",
         "domain": [
          0,
          1
         ]
        },
        "yaxis": {
         "anchor": "x",
         "domain": [
          0.625,
          1
         ]
        },
        "yaxis2": {
         "anchor": "x2",
         "domain": [
          0,
          0.375
         ]
        }
       }
      },
      "text/html": [
       "<div id=\"ec087526-2ed5-45ae-91ae-d9fefde77180\" style=\"height: 1200px; width: 800px;\" class=\"plotly-graph-div\"></div><script type=\"text/javascript\">require([\"plotly\"], function(Plotly) { window.PLOTLYENV=window.PLOTLYENV || {};window.PLOTLYENV.BASE_URL=\"https://plot.ly\";\n",
       "        Plotly.plot(\n",
       "            'ec087526-2ed5-45ae-91ae-d9fefde77180',\n",
       "            [{\"marker\": {\"color\": \"rgba(155, 89, 182, 0.6)\", \"line\": {\"color\": \"rgba(155, 89, 182, 1.0)\", \"width\": 0.3}}, \"name\": \"Sarcastic News\", \"opacity\": 0.6, \"orientation\": \"h\", \"x\": [1021.0, 821.0, 477.0, 360.0, 290.0, 253.0, 213.0, 208.0, 207.0, 200.0], \"y\": [\"man\", \"new\", \"area\", \"report:\", \"woman\", \"one\", \"time\", \"still\", \"day\", \"trump\"], \"type\": \"bar\", \"uid\": \"40d2256e-8d68-11e9-a96b-8c85904900de\", \"xaxis\": \"x\", \"yaxis\": \"y\"}, {\"marker\": {\"color\": \"rgba(88, 214, 141, 0.6)\", \"line\": {\"color\": \"rgba(88, 214, 141, 1.0)\", \"width\": 0.3}}, \"name\": \"Real News\", \"opacity\": 0.6, \"orientation\": \"h\", \"x\": [957.0, 664.0, 453.0, 364.0, 346.0, 240.0, 234.0, 223.0, 220.0, 209.0], \"y\": [\"trump\", \"new\", \"donald\", \"trump's\", \"says\", \"women\", \"one\", \"u.s.\", \"first\", \"make\"], \"type\": \"bar\", \"uid\": \"40d4b3c6-8d68-11e9-b78f-8c85904900de\", \"xaxis\": \"x2\", \"yaxis\": \"y2\"}],\n",
       "            {\"annotations\": [{\"font\": {\"size\": 16}, \"showarrow\": false, \"text\": \"Top 10 Most occuring words in Sarcastic News Headlines\", \"x\": 0.5, \"xanchor\": \"center\", \"xref\": \"paper\", \"y\": 1.0, \"yanchor\": \"bottom\", \"yref\": \"paper\"}, {\"font\": {\"size\": 16}, \"showarrow\": false, \"text\": \"Top 10 Most occuring words in Real News Headlines\", \"x\": 0.5, \"xanchor\": \"center\", \"xref\": \"paper\", \"y\": 0.375, \"yanchor\": \"bottom\", \"yref\": \"paper\"}], \"xaxis\": {\"anchor\": \"y\", \"domain\": [0.0, 1.0]}, \"yaxis\": {\"anchor\": \"x\", \"domain\": [0.625, 1.0]}, \"xaxis2\": {\"anchor\": \"y2\", \"domain\": [0.0, 1.0]}, \"yaxis2\": {\"anchor\": \"x2\", \"domain\": [0.0, 0.375]}, \"height\": 1200, \"width\": 800},\n",
       "            {\"showLink\": true, \"linkText\": \"Export to plot.ly\"}\n",
       "        ).then(function () {return Plotly.addFrames('ec087526-2ed5-45ae-91ae-d9fefde77180',{});}).then(function(){Plotly.animate('ec087526-2ed5-45ae-91ae-d9fefde77180');})\n",
       "        });</script>"
      ],
      "text/vnd.plotly.v1+html": [
       "<div id=\"ec087526-2ed5-45ae-91ae-d9fefde77180\" style=\"height: 1200px; width: 800px;\" class=\"plotly-graph-div\"></div><script type=\"text/javascript\">require([\"plotly\"], function(Plotly) { window.PLOTLYENV=window.PLOTLYENV || {};window.PLOTLYENV.BASE_URL=\"https://plot.ly\";\n",
       "        Plotly.plot(\n",
       "            'ec087526-2ed5-45ae-91ae-d9fefde77180',\n",
       "            [{\"marker\": {\"color\": \"rgba(155, 89, 182, 0.6)\", \"line\": {\"color\": \"rgba(155, 89, 182, 1.0)\", \"width\": 0.3}}, \"name\": \"Sarcastic News\", \"opacity\": 0.6, \"orientation\": \"h\", \"x\": [1021.0, 821.0, 477.0, 360.0, 290.0, 253.0, 213.0, 208.0, 207.0, 200.0], \"y\": [\"man\", \"new\", \"area\", \"report:\", \"woman\", \"one\", \"time\", \"still\", \"day\", \"trump\"], \"type\": \"bar\", \"uid\": \"40d2256e-8d68-11e9-a96b-8c85904900de\", \"xaxis\": \"x\", \"yaxis\": \"y\"}, {\"marker\": {\"color\": \"rgba(88, 214, 141, 0.6)\", \"line\": {\"color\": \"rgba(88, 214, 141, 1.0)\", \"width\": 0.3}}, \"name\": \"Real News\", \"opacity\": 0.6, \"orientation\": \"h\", \"x\": [957.0, 664.0, 453.0, 364.0, 346.0, 240.0, 234.0, 223.0, 220.0, 209.0], \"y\": [\"trump\", \"new\", \"donald\", \"trump's\", \"says\", \"women\", \"one\", \"u.s.\", \"first\", \"make\"], \"type\": \"bar\", \"uid\": \"40d4b3c6-8d68-11e9-b78f-8c85904900de\", \"xaxis\": \"x2\", \"yaxis\": \"y2\"}],\n",
       "            {\"annotations\": [{\"font\": {\"size\": 16}, \"showarrow\": false, \"text\": \"Top 10 Most occuring words in Sarcastic News Headlines\", \"x\": 0.5, \"xanchor\": \"center\", \"xref\": \"paper\", \"y\": 1.0, \"yanchor\": \"bottom\", \"yref\": \"paper\"}, {\"font\": {\"size\": 16}, \"showarrow\": false, \"text\": \"Top 10 Most occuring words in Real News Headlines\", \"x\": 0.5, \"xanchor\": \"center\", \"xref\": \"paper\", \"y\": 0.375, \"yanchor\": \"bottom\", \"yref\": \"paper\"}], \"xaxis\": {\"anchor\": \"y\", \"domain\": [0.0, 1.0]}, \"yaxis\": {\"anchor\": \"x\", \"domain\": [0.625, 1.0]}, \"xaxis2\": {\"anchor\": \"y2\", \"domain\": [0.0, 1.0]}, \"yaxis2\": {\"anchor\": \"x2\", \"domain\": [0.0, 0.375]}, \"height\": 1200, \"width\": 800},\n",
       "            {\"showLink\": true, \"linkText\": \"Export to plot.ly\"}\n",
       "        ).then(function () {return Plotly.addFrames('ec087526-2ed5-45ae-91ae-d9fefde77180',{});}).then(function(){Plotly.animate('ec087526-2ed5-45ae-91ae-d9fefde77180');})\n",
       "        });</script>"
      ]
     },
     "metadata": {},
     "output_type": "display_data"
    }
   ],
   "source": [
    "from plotly import tools \n",
    "\n",
    "sar_tr  = go.Bar(\n",
    "    x=sar_top10['Count'],\n",
    "    y=sar_top10['Words'],\n",
    "    name='Sarcastic News',\n",
    "    marker=dict(\n",
    "        color='rgba(155, 89, 182, 0.6)',\n",
    "        line=dict(\n",
    "            color='rgba(155, 89, 182, 1.0)',\n",
    "            width=.3,\n",
    "        )\n",
    "    ),\n",
    "    orientation='h',\n",
    "    opacity=0.6\n",
    ")\n",
    "\n",
    "acc_tr  = go.Bar(\n",
    "    x=real_top10['Count'],\n",
    "    y=real_top10['Words'],\n",
    "    name='Real News',\n",
    "    marker=dict(\n",
    "        color='rgba(88, 214, 141, 0.6)',\n",
    "        line=dict(\n",
    "            color='rgba(88, 214, 141, 1.0)',\n",
    "            width=.3,\n",
    "        )\n",
    "    ),\n",
    "    orientation='h',\n",
    "    opacity=0.6\n",
    ")\n",
    "\n",
    "fig = tools.make_subplots(rows=2, cols=1, subplot_titles=('Top 10 Most occuring words in Sarcastic News Headlines',\n",
    "                                                          'Top 10 Most occuring words in Real News Headlines'))\n",
    "\n",
    "fig.append_trace(sar_tr, 1, 1)\n",
    "fig.append_trace(acc_tr, 2, 1)\n",
    "\n",
    "\n",
    "fig['layout'].update(height=1200, width=800)\n",
    "\n",
    "iplot(fig, filename='sar_vs_real')\n",
    "                       \n",
    "                                            "
   ]
  },
  {
   "cell_type": "code",
   "execution_count": 20,
   "metadata": {},
   "outputs": [],
   "source": [
    "all_cnt = pd.merge(real_cnt, sar_cnt, on='Words')\n",
    "all_cnt['Count'] = all_cnt.Count_x + all_cnt.Count_y \n",
    "# all_cnt = all_cnt.drop(['Count_x', 'Count_y'], axis=1, inplace=True)"
   ]
  },
  {
   "cell_type": "code",
   "execution_count": 21,
   "metadata": {},
   "outputs": [
    {
     "data": {
      "text/html": [
       "<div>\n",
       "<style scoped>\n",
       "    .dataframe tbody tr th:only-of-type {\n",
       "        vertical-align: middle;\n",
       "    }\n",
       "\n",
       "    .dataframe tbody tr th {\n",
       "        vertical-align: top;\n",
       "    }\n",
       "\n",
       "    .dataframe thead th {\n",
       "        text-align: right;\n",
       "    }\n",
       "</style>\n",
       "<table border=\"1\" class=\"dataframe\">\n",
       "  <thead>\n",
       "    <tr style=\"text-align: right;\">\n",
       "      <th></th>\n",
       "      <th>Words</th>\n",
       "      <th>Count_x</th>\n",
       "      <th>Count_y</th>\n",
       "      <th>Count</th>\n",
       "    </tr>\n",
       "  </thead>\n",
       "  <tbody>\n",
       "    <tr>\n",
       "      <th>0</th>\n",
       "      <td>trump</td>\n",
       "      <td>957</td>\n",
       "      <td>200</td>\n",
       "      <td>1157</td>\n",
       "    </tr>\n",
       "    <tr>\n",
       "      <th>1</th>\n",
       "      <td>new</td>\n",
       "      <td>664</td>\n",
       "      <td>821</td>\n",
       "      <td>1485</td>\n",
       "    </tr>\n",
       "    <tr>\n",
       "      <th>2</th>\n",
       "      <td>donald</td>\n",
       "      <td>453</td>\n",
       "      <td>15</td>\n",
       "      <td>468</td>\n",
       "    </tr>\n",
       "    <tr>\n",
       "      <th>3</th>\n",
       "      <td>trump's</td>\n",
       "      <td>364</td>\n",
       "      <td>24</td>\n",
       "      <td>388</td>\n",
       "    </tr>\n",
       "    <tr>\n",
       "      <th>4</th>\n",
       "      <td>says</td>\n",
       "      <td>346</td>\n",
       "      <td>104</td>\n",
       "      <td>450</td>\n",
       "    </tr>\n",
       "    <tr>\n",
       "      <th>5</th>\n",
       "      <td>women</td>\n",
       "      <td>240</td>\n",
       "      <td>70</td>\n",
       "      <td>310</td>\n",
       "    </tr>\n",
       "    <tr>\n",
       "      <th>6</th>\n",
       "      <td>one</td>\n",
       "      <td>234</td>\n",
       "      <td>253</td>\n",
       "      <td>487</td>\n",
       "    </tr>\n",
       "    <tr>\n",
       "      <th>7</th>\n",
       "      <td>u.s.</td>\n",
       "      <td>223</td>\n",
       "      <td>187</td>\n",
       "      <td>410</td>\n",
       "    </tr>\n",
       "    <tr>\n",
       "      <th>8</th>\n",
       "      <td>first</td>\n",
       "      <td>220</td>\n",
       "      <td>169</td>\n",
       "      <td>389</td>\n",
       "    </tr>\n",
       "    <tr>\n",
       "      <th>9</th>\n",
       "      <td>make</td>\n",
       "      <td>209</td>\n",
       "      <td>111</td>\n",
       "      <td>320</td>\n",
       "    </tr>\n",
       "  </tbody>\n",
       "</table>\n",
       "</div>"
      ],
      "text/plain": [
       "     Words  Count_x  Count_y  Count\n",
       "0    trump      957      200   1157\n",
       "1      new      664      821   1485\n",
       "2   donald      453       15    468\n",
       "3  trump's      364       24    388\n",
       "4     says      346      104    450\n",
       "5    women      240       70    310\n",
       "6      one      234      253    487\n",
       "7     u.s.      223      187    410\n",
       "8    first      220      169    389\n",
       "9     make      209      111    320"
      ]
     },
     "execution_count": 21,
     "metadata": {},
     "output_type": "execute_result"
    }
   ],
   "source": [
    "all_cnt.head(10)"
   ]
  },
  {
   "cell_type": "code",
   "execution_count": 22,
   "metadata": {},
   "outputs": [
    {
     "data": {
      "text/html": [
       "<div>\n",
       "<style scoped>\n",
       "    .dataframe tbody tr th:only-of-type {\n",
       "        vertical-align: middle;\n",
       "    }\n",
       "\n",
       "    .dataframe tbody tr th {\n",
       "        vertical-align: top;\n",
       "    }\n",
       "\n",
       "    .dataframe thead th {\n",
       "        text-align: right;\n",
       "    }\n",
       "</style>\n",
       "<table border=\"1\" class=\"dataframe\">\n",
       "  <thead>\n",
       "    <tr style=\"text-align: right;\">\n",
       "      <th></th>\n",
       "      <th>article_link</th>\n",
       "      <th>headline</th>\n",
       "      <th>is_sarcastic</th>\n",
       "    </tr>\n",
       "  </thead>\n",
       "  <tbody>\n",
       "    <tr>\n",
       "      <th>0</th>\n",
       "      <td>https://www.huffingtonpost.com/entry/versace-b...</td>\n",
       "      <td>former versace store clerk sues over secret 'b...</td>\n",
       "      <td>0</td>\n",
       "    </tr>\n",
       "    <tr>\n",
       "      <th>1</th>\n",
       "      <td>https://www.huffingtonpost.com/entry/roseanne-...</td>\n",
       "      <td>the 'roseanne' revival catches up to our thorn...</td>\n",
       "      <td>0</td>\n",
       "    </tr>\n",
       "    <tr>\n",
       "      <th>2</th>\n",
       "      <td>https://local.theonion.com/mom-starting-to-fea...</td>\n",
       "      <td>mom starting to fear son's web series closest ...</td>\n",
       "      <td>1</td>\n",
       "    </tr>\n",
       "    <tr>\n",
       "      <th>3</th>\n",
       "      <td>https://politics.theonion.com/boehner-just-wan...</td>\n",
       "      <td>boehner just wants wife to listen, not come up...</td>\n",
       "      <td>1</td>\n",
       "    </tr>\n",
       "    <tr>\n",
       "      <th>4</th>\n",
       "      <td>https://www.huffingtonpost.com/entry/jk-rowlin...</td>\n",
       "      <td>j.k. rowling wishes snape happy birthday in th...</td>\n",
       "      <td>0</td>\n",
       "    </tr>\n",
       "  </tbody>\n",
       "</table>\n",
       "</div>"
      ],
      "text/plain": [
       "                                        article_link  \\\n",
       "0  https://www.huffingtonpost.com/entry/versace-b...   \n",
       "1  https://www.huffingtonpost.com/entry/roseanne-...   \n",
       "2  https://local.theonion.com/mom-starting-to-fea...   \n",
       "3  https://politics.theonion.com/boehner-just-wan...   \n",
       "4  https://www.huffingtonpost.com/entry/jk-rowlin...   \n",
       "\n",
       "                                            headline  is_sarcastic  \n",
       "0  former versace store clerk sues over secret 'b...             0  \n",
       "1  the 'roseanne' revival catches up to our thorn...             0  \n",
       "2  mom starting to fear son's web series closest ...             1  \n",
       "3  boehner just wants wife to listen, not come up...             1  \n",
       "4  j.k. rowling wishes snape happy birthday in th...             0  "
      ]
     },
     "execution_count": 22,
     "metadata": {},
     "output_type": "execute_result"
    }
   ],
   "source": [
    "df.head()"
   ]
  },
  {
   "cell_type": "markdown",
   "metadata": {},
   "source": [
    "## Stemming \n",
    "---\n",
    "Stemming is the process of reducing a word to its \"base\" word. NLTK provides several ways to stem. Today we will use the Snowball stemming algorithm. The Snowball is a small string processing language designed for creating stemming algorithms for use in information retrieval. \n",
    "\n",
    "Below we'll see an example of stemming using SnowballStemer. "
   ]
  },
  {
   "cell_type": "code",
   "execution_count": 23,
   "metadata": {},
   "outputs": [
    {
     "name": "stdout",
     "output_type": "stream",
     "text": [
      "The stemmed form of running is: run\n",
      "The stemmed form of runs is: run\n",
      "The stemmed form of run is: run\n",
      "\n",
      "\n",
      "The stemmed form of learning is: learn\n",
      "The stemmed form of learns is: learn\n",
      "The stemmed form of learn is: learn\n",
      "\n",
      "\n",
      "The stemmed form of leaves is: leav\n"
     ]
    }
   ],
   "source": [
    "stemmer = nltk.stem.SnowballStemmer(\"english\", ignore_stopwords=True)\n",
    "\n",
    "print(\"The stemmed form of running is: {}\".format(stemmer.stem(\"running\")))\n",
    "print(\"The stemmed form of runs is: {}\".format(stemmer.stem(\"runs\")))\n",
    "print(\"The stemmed form of run is: {}\".format(stemmer.stem(\"run\")))\n",
    "print('\\n')\n",
    "print(\"The stemmed form of learning is: {}\".format(stemmer.stem(\"learning\")))\n",
    "print(\"The stemmed form of learns is: {}\".format(stemmer.stem(\"learns\")))\n",
    "print(\"The stemmed form of learn is: {}\".format(stemmer.stem(\"learn\")))\n",
    "print('\\n')\n",
    "print(\"The stemmed form of leaves is: {}\".format(stemmer.stem(\"leaves\")))\n"
   ]
  },
  {
   "cell_type": "markdown",
   "metadata": {},
   "source": [
    "In the above example, the word leaves becomes 'leav' after stemming it. Sometimes stemming the words can result in meaningless words like 'leav'. To combat that, we have lemmatization. \n"
   ]
  },
  {
   "cell_type": "markdown",
   "metadata": {},
   "source": [
    "## Lemmatization \n",
    "---\n",
    "Lemmatization is the process of grouping the inflected forms of a word so it can be analysed as a single item, identified by the word's lemma, or dictionary form. Lemmatization aims to reduce words based on actual vocabulary words (the Lemma) and will not chop off words into stemmed forms that do not carry any lexical meaning. "
   ]
  },
  {
   "cell_type": "code",
   "execution_count": 24,
   "metadata": {},
   "outputs": [
    {
     "name": "stdout",
     "output_type": "stream",
     "text": [
      "The lemmatized form of leaves is: leaf\n"
     ]
    }
   ],
   "source": [
    "from nltk.stem import WordNetLemmatizer\n",
    "#only used once nltk.downlaod()\n",
    "# nltk.download()\n",
    "lemm = WordNetLemmatizer()\n",
    "print(\"The lemmatized form of leaves is: {}\".format(lemm.lemmatize(\"leaves\")))"
   ]
  },
  {
   "cell_type": "code",
   "execution_count": 25,
   "metadata": {},
   "outputs": [],
   "source": [
    "#Sarcasm headline after Lemmatization\n",
    "sar_wost_lem = []\n",
    "for batch in sar_news:\n",
    "    sar_list_restp = [word for word in batch if word.lower() not in stopwords]\n",
    "    lemm = WordNetLemmatizer()\n",
    "    sar_list_lemm =  [lemm.lemmatize(word) for word in sar_list_restp]\n",
    "    sar_wost_lem.append(sar_list_lemm)\n",
    "\n",
    "#Real headline after Lemmatization\n",
    "real_wost_lem = []\n",
    "for batch in real_news:\n",
    "    acc_list_restp = [word for word in batch if word.lower() not in stopwords]\n",
    "    lemm = WordNetLemmatizer()\n",
    "    acc_list_lemm =  [lemm.lemmatize(word) for word in acc_list_restp]\n",
    "    real_wost_lem.append(acc_list_lemm)"
   ]
  },
  {
   "cell_type": "code",
   "execution_count": 27,
   "metadata": {},
   "outputs": [],
   "source": [
    "sar_dict = list(itertools.chain.from_iterable(sar_wost_lem))\n",
    "real_dict = list(itertools.chain.from_iterable(real_wost_lem))\n",
    "\n",
    "sar_lem_cnt = Counter(sar_dict)\n",
    "real_lem_cnt = Counter(real_dict)\n",
    "\n",
    "#dictionary to DataFrame\n",
    "sar_lem_cnt = pd.DataFrame(list(sar_lem_cnt.items()), columns= ['Lemma Words', 'Count'])\n",
    "sar_lem_cnt.sort_values(by=['Count'], ascending= False, inplace=True)\n",
    "real_lem_cnt = pd.DataFrame(list(real_lem_cnt.items()), columns= ['Lemma Words', 'Count'])\n",
    "real_lem_cnt.sort_values(by=['Count'], ascending= False, inplace=True)\n",
    "\n",
    "#top 10 \n",
    "sar_lem_top20 = sar_lem_cnt.head(20)\n",
    "real_lem_top20 = real_lem_cnt.head(20)"
   ]
  },
  {
   "cell_type": "code",
   "execution_count": 28,
   "metadata": {},
   "outputs": [
    {
     "data": {
      "text/html": [
       "<div>\n",
       "<style scoped>\n",
       "    .dataframe tbody tr th:only-of-type {\n",
       "        vertical-align: middle;\n",
       "    }\n",
       "\n",
       "    .dataframe tbody tr th {\n",
       "        vertical-align: top;\n",
       "    }\n",
       "\n",
       "    .dataframe thead th {\n",
       "        text-align: right;\n",
       "    }\n",
       "</style>\n",
       "<table border=\"1\" class=\"dataframe\">\n",
       "  <thead>\n",
       "    <tr style=\"text-align: right;\">\n",
       "      <th></th>\n",
       "      <th>Lemma Words</th>\n",
       "      <th>Count_x</th>\n",
       "      <th>Count_y</th>\n",
       "      <th>Count</th>\n",
       "    </tr>\n",
       "  </thead>\n",
       "  <tbody>\n",
       "    <tr>\n",
       "      <th>1</th>\n",
       "      <td>new</td>\n",
       "      <td>821</td>\n",
       "      <td>664</td>\n",
       "      <td>1485</td>\n",
       "    </tr>\n",
       "    <tr>\n",
       "      <th>0</th>\n",
       "      <td>man</td>\n",
       "      <td>1022</td>\n",
       "      <td>208</td>\n",
       "      <td>1230</td>\n",
       "    </tr>\n",
       "    <tr>\n",
       "      <th>14</th>\n",
       "      <td>trump</td>\n",
       "      <td>200</td>\n",
       "      <td>959</td>\n",
       "      <td>1159</td>\n",
       "    </tr>\n",
       "    <tr>\n",
       "      <th>3</th>\n",
       "      <td>woman</td>\n",
       "      <td>360</td>\n",
       "      <td>370</td>\n",
       "      <td>730</td>\n",
       "    </tr>\n",
       "    <tr>\n",
       "      <th>22</th>\n",
       "      <td>say</td>\n",
       "      <td>162</td>\n",
       "      <td>490</td>\n",
       "      <td>652</td>\n",
       "    </tr>\n",
       "    <tr>\n",
       "      <th>5</th>\n",
       "      <td>get</td>\n",
       "      <td>283</td>\n",
       "      <td>290</td>\n",
       "      <td>573</td>\n",
       "    </tr>\n",
       "    <tr>\n",
       "      <th>6</th>\n",
       "      <td>one</td>\n",
       "      <td>267</td>\n",
       "      <td>237</td>\n",
       "      <td>504</td>\n",
       "    </tr>\n",
       "    <tr>\n",
       "      <th>15</th>\n",
       "      <td>make</td>\n",
       "      <td>194</td>\n",
       "      <td>300</td>\n",
       "      <td>494</td>\n",
       "    </tr>\n",
       "    <tr>\n",
       "      <th>2</th>\n",
       "      <td>area</td>\n",
       "      <td>478</td>\n",
       "      <td>12</td>\n",
       "      <td>490</td>\n",
       "    </tr>\n",
       "    <tr>\n",
       "      <th>1048</th>\n",
       "      <td>donald</td>\n",
       "      <td>15</td>\n",
       "      <td>453</td>\n",
       "      <td>468</td>\n",
       "    </tr>\n",
       "  </tbody>\n",
       "</table>\n",
       "</div>"
      ],
      "text/plain": [
       "     Lemma Words  Count_x  Count_y  Count\n",
       "1            new      821      664   1485\n",
       "0            man     1022      208   1230\n",
       "14         trump      200      959   1159\n",
       "3          woman      360      370    730\n",
       "22           say      162      490    652\n",
       "5            get      283      290    573\n",
       "6            one      267      237    504\n",
       "15          make      194      300    494\n",
       "2           area      478       12    490\n",
       "1048      donald       15      453    468"
      ]
     },
     "execution_count": 28,
     "metadata": {},
     "output_type": "execute_result"
    }
   ],
   "source": [
    "#merging DataFrames\n",
    "df_lemma = pd.merge(sar_lem_cnt, real_lem_cnt, on='Lemma Words')\n",
    "df_lemma['Count'] = df_lemma.Count_x + df_lemma.Count_y \n",
    "df_lemma.sort_values(by=['Count'], ascending=False, inplace=True)\n",
    "df_lemma.head(10)"
   ]
  },
  {
   "cell_type": "code",
   "execution_count": 29,
   "metadata": {
    "scrolled": true
   },
   "outputs": [
    {
     "data": {
      "application/vnd.plotly.v1+json": {
       "data": [
        {
         "marker": {
          "color": [
           1485,
           1230,
           1159,
           730,
           652,
           573,
           504,
           494,
           490,
           468,
           466,
           462,
           438,
           412,
           410,
           408,
           389,
           388,
           384,
           383,
           364,
           343,
           337,
           332,
           326,
           326,
           325,
           316,
           315,
           310,
           301,
           300,
           287,
           286,
           279,
           276,
           269,
           268,
           265,
           261,
           260,
           258,
           253,
           242,
           238,
           234,
           231,
           229,
           228,
           227,
           226,
           225,
           224,
           224,
           223,
           220,
           219,
           218,
           217,
           209,
           209,
           208,
           207,
           205,
           205,
           202,
           200,
           200,
           199,
           199,
           197,
           197,
           197,
           196,
           196,
           196,
           193,
           193,
           190,
           190,
           189,
           188,
           186,
           185,
           185,
           184,
           181,
           178,
           177,
           176,
           176,
           172,
           171,
           171,
           170,
           170,
           168,
           168,
           167,
           167
          ],
          "colorscale": "Viridis"
         },
         "text": "Word counts",
         "type": "bar",
         "uid": "4373b710-8d68-11e9-a0f9-8c85904900de",
         "x": [
          "new",
          "man",
          "trump",
          "woman",
          "say",
          "get",
          "one",
          "make",
          "area",
          "donald",
          "day",
          "american",
          "time",
          "year",
          "u.s.",
          "like",
          "first",
          "trump's",
          "report:",
          "life",
          "way",
          "people",
          "take",
          "thing",
          "house",
          "still",
          "obama",
          "show",
          "find",
          "white"
         ],
         "y": [
          1485,
          1230,
          1159,
          730,
          652,
          573,
          504,
          494,
          490,
          468,
          466,
          462,
          438,
          412,
          410,
          408,
          389,
          388,
          384,
          383,
          364,
          343,
          337,
          332,
          326,
          326,
          325,
          316,
          315,
          310
         ]
        }
       ],
       "layout": {
        "title": "Top Lemma words in Headlines"
       }
      },
      "text/html": [
       "<div id=\"7baf148b-626b-4f37-b2f7-2025a3fb04b3\" style=\"height: 525px; width: 100%;\" class=\"plotly-graph-div\"></div><script type=\"text/javascript\">require([\"plotly\"], function(Plotly) { window.PLOTLYENV=window.PLOTLYENV || {};window.PLOTLYENV.BASE_URL=\"https://plot.ly\";\n",
       "        Plotly.plot(\n",
       "            '7baf148b-626b-4f37-b2f7-2025a3fb04b3',\n",
       "            [{\"marker\": {\"color\": [1485.0, 1230.0, 1159.0, 730.0, 652.0, 573.0, 504.0, 494.0, 490.0, 468.0, 466.0, 462.0, 438.0, 412.0, 410.0, 408.0, 389.0, 388.0, 384.0, 383.0, 364.0, 343.0, 337.0, 332.0, 326.0, 326.0, 325.0, 316.0, 315.0, 310.0, 301.0, 300.0, 287.0, 286.0, 279.0, 276.0, 269.0, 268.0, 265.0, 261.0, 260.0, 258.0, 253.0, 242.0, 238.0, 234.0, 231.0, 229.0, 228.0, 227.0, 226.0, 225.0, 224.0, 224.0, 223.0, 220.0, 219.0, 218.0, 217.0, 209.0, 209.0, 208.0, 207.0, 205.0, 205.0, 202.0, 200.0, 200.0, 199.0, 199.0, 197.0, 197.0, 197.0, 196.0, 196.0, 196.0, 193.0, 193.0, 190.0, 190.0, 189.0, 188.0, 186.0, 185.0, 185.0, 184.0, 181.0, 178.0, 177.0, 176.0, 176.0, 172.0, 171.0, 171.0, 170.0, 170.0, 168.0, 168.0, 167.0, 167.0], \"colorscale\": \"Viridis\"}, \"text\": \"Word counts\", \"x\": [\"new\", \"man\", \"trump\", \"woman\", \"say\", \"get\", \"one\", \"make\", \"area\", \"donald\", \"day\", \"american\", \"time\", \"year\", \"u.s.\", \"like\", \"first\", \"trump's\", \"report:\", \"life\", \"way\", \"people\", \"take\", \"thing\", \"house\", \"still\", \"obama\", \"show\", \"find\", \"white\"], \"y\": [1485.0, 1230.0, 1159.0, 730.0, 652.0, 573.0, 504.0, 494.0, 490.0, 468.0, 466.0, 462.0, 438.0, 412.0, 410.0, 408.0, 389.0, 388.0, 384.0, 383.0, 364.0, 343.0, 337.0, 332.0, 326.0, 326.0, 325.0, 316.0, 315.0, 310.0], \"type\": \"bar\", \"uid\": \"4373b710-8d68-11e9-a0f9-8c85904900de\"}],\n",
       "            {\"title\": \"Top Lemma words in Headlines\"},\n",
       "            {\"showLink\": true, \"linkText\": \"Export to plot.ly\"}\n",
       "        ).then(function () {return Plotly.addFrames('7baf148b-626b-4f37-b2f7-2025a3fb04b3',{});}).then(function(){Plotly.animate('7baf148b-626b-4f37-b2f7-2025a3fb04b3');})\n",
       "        });</script>"
      ],
      "text/vnd.plotly.v1+html": [
       "<div id=\"7baf148b-626b-4f37-b2f7-2025a3fb04b3\" style=\"height: 525px; width: 100%;\" class=\"plotly-graph-div\"></div><script type=\"text/javascript\">require([\"plotly\"], function(Plotly) { window.PLOTLYENV=window.PLOTLYENV || {};window.PLOTLYENV.BASE_URL=\"https://plot.ly\";\n",
       "        Plotly.plot(\n",
       "            '7baf148b-626b-4f37-b2f7-2025a3fb04b3',\n",
       "            [{\"marker\": {\"color\": [1485.0, 1230.0, 1159.0, 730.0, 652.0, 573.0, 504.0, 494.0, 490.0, 468.0, 466.0, 462.0, 438.0, 412.0, 410.0, 408.0, 389.0, 388.0, 384.0, 383.0, 364.0, 343.0, 337.0, 332.0, 326.0, 326.0, 325.0, 316.0, 315.0, 310.0, 301.0, 300.0, 287.0, 286.0, 279.0, 276.0, 269.0, 268.0, 265.0, 261.0, 260.0, 258.0, 253.0, 242.0, 238.0, 234.0, 231.0, 229.0, 228.0, 227.0, 226.0, 225.0, 224.0, 224.0, 223.0, 220.0, 219.0, 218.0, 217.0, 209.0, 209.0, 208.0, 207.0, 205.0, 205.0, 202.0, 200.0, 200.0, 199.0, 199.0, 197.0, 197.0, 197.0, 196.0, 196.0, 196.0, 193.0, 193.0, 190.0, 190.0, 189.0, 188.0, 186.0, 185.0, 185.0, 184.0, 181.0, 178.0, 177.0, 176.0, 176.0, 172.0, 171.0, 171.0, 170.0, 170.0, 168.0, 168.0, 167.0, 167.0], \"colorscale\": \"Viridis\"}, \"text\": \"Word counts\", \"x\": [\"new\", \"man\", \"trump\", \"woman\", \"say\", \"get\", \"one\", \"make\", \"area\", \"donald\", \"day\", \"american\", \"time\", \"year\", \"u.s.\", \"like\", \"first\", \"trump's\", \"report:\", \"life\", \"way\", \"people\", \"take\", \"thing\", \"house\", \"still\", \"obama\", \"show\", \"find\", \"white\"], \"y\": [1485.0, 1230.0, 1159.0, 730.0, 652.0, 573.0, 504.0, 494.0, 490.0, 468.0, 466.0, 462.0, 438.0, 412.0, 410.0, 408.0, 389.0, 388.0, 384.0, 383.0, 364.0, 343.0, 337.0, 332.0, 326.0, 326.0, 325.0, 316.0, 315.0, 310.0], \"type\": \"bar\", \"uid\": \"4373b710-8d68-11e9-a0f9-8c85904900de\"}],\n",
       "            {\"title\": \"Top Lemma words in Headlines\"},\n",
       "            {\"showLink\": true, \"linkText\": \"Export to plot.ly\"}\n",
       "        ).then(function () {return Plotly.addFrames('7baf148b-626b-4f37-b2f7-2025a3fb04b3',{});}).then(function(){Plotly.animate('7baf148b-626b-4f37-b2f7-2025a3fb04b3');})\n",
       "        });</script>"
      ]
     },
     "metadata": {},
     "output_type": "display_data"
    }
   ],
   "source": [
    "lemma_data = [go.Bar(\n",
    "            x = np.array(df_lemma['Lemma Words'][0:30]),\n",
    "            y = np.array(df_lemma.Count[0:30]),\n",
    "            marker= dict(colorscale='Viridis' ,color =df_lemma.Count[0:100]),\n",
    "            text='Word counts')]\n",
    "\n",
    "layout = go.Layout(\n",
    "    title='Top Lemma words in Headlines'\n",
    ")\n",
    "\n",
    "fig = go.Figure(data=lemma_data, layout=layout)\n",
    "\n",
    "iplot(fig, filename='lemma-basic-bar')"
   ]
  },
  {
   "cell_type": "markdown",
   "metadata": {},
   "source": [
    "## Bag of Words \n",
    "---\n",
    "The bag-of-words model is used in classification where the number of words (frequency) is used as a feature for training a classifier. In short a bag-of-words model is a way of extracting features from text for use in modeling. "
   ]
  },
  {
   "cell_type": "code",
   "execution_count": 30,
   "metadata": {},
   "outputs": [
    {
     "name": "stdout",
     "output_type": "stream",
     "text": [
      "The features are:\n",
      " ['christmas', 'francis', 'got', 'pope', 'sweater', 'vestment', 'wearing']\n",
      "\n",
      "The vectorized array looks like:\n",
      " [[0 0 0 1 0 0 0]\n",
      " [0 1 0 0 0 0 0]\n",
      " [0 0 0 0 0 0 1]\n",
      " [0 0 0 0 1 0 0]\n",
      " [0 0 0 0 0 1 0]\n",
      " [0 0 1 0 0 0 0]\n",
      " [1 0 0 0 0 0 0]]\n"
     ]
    }
   ],
   "source": [
    "from sklearn.feature_extraction.text import CountVectorizer\n",
    "vec = []\n",
    "for block in sar_wost_lem:\n",
    "    vectorizer = CountVectorizer(min_df=0)\n",
    "    sentence_transform = vectorizer.fit_transform(block)\n",
    "    vec.append(sentence_transform)\n",
    "    \n",
    "\n",
    "print(\"The features are:\\n {}\".format(vectorizer.get_feature_names()))\n",
    "print(\"\\nThe vectorized array looks like:\\n {}\".format(sentence_transform.toarray()))"
   ]
  },
  {
   "cell_type": "markdown",
   "metadata": {},
   "source": [
    "## WordCloud\n",
    "---"
   ]
  },
  {
   "cell_type": "code",
   "execution_count": 31,
   "metadata": {},
   "outputs": [],
   "source": [
    "#import necessary libraries\n",
    "from wordcloud import WordCloud\n",
    "from collections import Counter\n",
    "\n",
    "import re\n",
    "import string\n",
    "\n",
    "from nltk.corpus import stopwords\n",
    "stop = stopwords.words('english')"
   ]
  },
  {
   "cell_type": "code",
   "execution_count": 32,
   "metadata": {},
   "outputs": [],
   "source": [
    "from matplotlib import pyplot as plt\n",
    "%matplotlib inline"
   ]
  },
  {
   "cell_type": "code",
   "execution_count": 33,
   "metadata": {},
   "outputs": [],
   "source": [
    "text = df.headline.tolist()"
   ]
  },
  {
   "cell_type": "code",
   "execution_count": 34,
   "metadata": {},
   "outputs": [],
   "source": [
    "text_cloud = \" \".join(str(x) for x in text)"
   ]
  },
  {
   "cell_type": "code",
   "execution_count": 35,
   "metadata": {},
   "outputs": [
    {
     "data": {
      "image/png": "[encoded data removed]",
      "text/plain": [
       "<Figure size 1080x864 with 1 Axes>"
      ]
     },
     "metadata": {
      "needs_background": "light"
     },
     "output_type": "display_data"
    }
   ],
   "source": [
    "wordcloud = WordCloud(max_font_size=100, max_words=1000).generate(text_cloud\n",
    "                                                                 )\n",
    "plt.figure(figsize=(15,12))\n",
    "plt.imshow(wordcloud)\n",
    "plt.axis('off')\n",
    "plt.show()"
   ]
  },
  {
   "cell_type": "markdown",
   "metadata": {},
   "source": [
    "# Modeling with Keras \n",
    "---"
   ]
  },
  {
   "cell_type": "code",
   "execution_count": 36,
   "metadata": {},
   "outputs": [
    {
     "name": "stderr",
     "output_type": "stream",
     "text": [
      "Using TensorFlow backend.\n"
     ]
    }
   ],
   "source": [
    "#importing Keras library \n",
    "from keras import initializers, regularizers, constraints, optimizers, layers\n",
    "from keras.models import Model, Input, Sequential\n",
    "from keras.layers import Dense, Input, LSTM, Embedding, Dropout, SpatialDropout1D, Activation\n",
    "from keras.layers import Conv1D, Bidirectional, GlobalMaxPool1D, MaxPooling1D, BatchNormalization\n",
    "from keras.optimizers import Adam"
   ]
  },
  {
   "cell_type": "markdown",
   "metadata": {},
   "source": [
    "## Data preparation \n",
    "---\n",
    "We need to prepare our data prior to feeding into our model. Since this dataset was clean to begin with, we will proceed by using sklearn's LabelEncoder, which converts each class into a numerical value. "
   ]
  },
  {
   "cell_type": "code",
   "execution_count": 37,
   "metadata": {},
   "outputs": [],
   "source": [
    "from sklearn.preprocessing import LabelEncoder\n",
    "le = LabelEncoder()\n",
    "\n",
    "X = df.headline\n",
    "y = df.is_sarcastic\n",
    "y = le.fit_transform(y)\n",
    "Y = y.reshape(-1,1)"
   ]
  },
  {
   "cell_type": "markdown",
   "metadata": {},
   "source": [
    "## Training and Test data \n",
    "---\n",
    "We are separating our training and test data\n",
    "- **Training data**: sample data used to fit the model \n",
    "- **Validation data**: used to evaluate a given model \n",
    "- **Test data**: sample data used to provided an unbiased evaluation of final model "
   ]
  },
  {
   "cell_type": "markdown",
   "metadata": {},
   "source": [
    "<img src='train_val_test.png'>"
   ]
  },
  {
   "cell_type": "code",
   "execution_count": 38,
   "metadata": {},
   "outputs": [],
   "source": [
    "from sklearn.model_selection import train_test_split\n",
    "\n",
    "X_train, X_test, y_train, y_test = train_test_split(X, Y, \n",
    "                        test_size=.25, random_state=10)"
   ]
  },
  {
   "cell_type": "markdown",
   "metadata": {},
   "source": [
    "## Preprocessing data \n",
    "---\n",
    "There are a few ways we can preprocess our text data. We can use bag-of-words or word embeddings. \n",
    "\n",
    "**Bag-of-words**: is a representation of text that describes the occurrence of words within a document that involves a vocabulary of known words, and a measure of the presence of known words. In short, a bag-of-words model is a way of extracting features from text for use in modeling. [source](https://machinelearningmastery.com/gentle-introduction-bag-words-model/)\n",
    "\n",
    "This model is great for prediction problems in language modeling and documentation classification. But like everything there are limitations to bag-of-words such as: 1) vocabulary, requires careful design 2) sparsity, sparse representations are harder to model for computational reasons and for information reasons 3) meaning, discarding the word order ignores the context, and in turn the semantics gets lost. Think of **one-hot vector**, where there is one dimension for every word. This will create a LOT of dimensionality which can hurt our model's performance(recall the **Curse of Dimensionality**). \n",
    "\n",
    "We will use Word Embeddings instead. \n",
    "\n",
    "**Word Embeddings**: are a type of vectorization strategy that computes word vectors from a text corpus by training a neural network, which results in a high-dimensional embedding space, where each word is in the corpus is a unique vector in that space. In this embedding space, the position of the vector relative to the other vectors captures semantic meaning. [source](https://learn.co/tracks/data-science-career-v1-1/module-4-advanced-machine-learning-deep-learning/section-45-deep-nlp-word-embeddings/word-embeddings)\n",
    "\n",
    "**Benefits:**\n",
    "- captures semantic relationships \n",
    "- size of the vector is a tunable parameter\n",
    "- pre-trained embedding layer i.e. GloVE or train your own using a neural network\n",
    "- can be learned from text data and reused \n",
    "- an improvement over the sparse representation used in bag-of-words models \n"
   ]
  },
  {
   "cell_type": "markdown",
   "metadata": {},
   "source": [
    "![neural_network](image1.png)"
   ]
  },
  {
   "cell_type": "markdown",
   "metadata": {},
   "source": [
    "**Below we will:**\n",
    "- Tokenize the data to convert text to ordered set i.e. lists\n",
    "- Add padding to ensure our lists has the same shape \n",
    "- maxlen = 200, this is arbitrary number, as there are many ways to determine the maximum \n"
   ]
  },
  {
   "cell_type": "code",
   "execution_count": 39,
   "metadata": {},
   "outputs": [],
   "source": [
    "from keras.preprocessing.text import Tokenizer \n",
    "from keras.preprocessing import sequence\n",
    "maxwords = 1000 \n",
    "maxlen = 200\n",
    "\n",
    "token = Tokenizer(num_words=maxwords)\n",
    "token.fit_on_texts(X_train)\n",
    "\n",
    "sequences = token.texts_to_sequences(X_train)\n",
    "X_train = sequence.pad_sequences(sequences, maxlen=maxlen)"
   ]
  },
  {
   "cell_type": "markdown",
   "metadata": {},
   "source": [
    "## What is a Neural Network? \n",
    "---\n",
    "A [neural network](https://www.xenonstack.com/blog/artificial-neural-network-applications/) is a group of algorithms that certify the underlying relationship in a set of data similar to the human brain. The neural network helps to change the input so that the network gives the best result without redesigning the output procedure. \n",
    "\n",
    "## What's the difference between human brain and computer brain? \n",
    "<img src='How-Is-Brain-Different-From-Computers.png'>"
   ]
  },
  {
   "cell_type": "markdown",
   "metadata": {},
   "source": [
    "## Creating a Basic Neural Network\n",
    "---\n",
    "Neural networks are composed of several layers: \n",
    "- **Input layer**, takes the input values (features) and passes the information on to the next layer. We define this layer with a max words property, which will only accept a list a words with the set dimension `maxwords= 1000`.\n",
    "- We then pass our vectors to an **embedding layer**, where we project the words onto a defined vector space, which allows us to reduce model size and reduce dimesionality.\n",
    "- **Dense layers** or **\"Hidden layers\"**, are a linear operation where every input is connected to every output by a weight, and generally followed by a non-linear **activation function**, in our case we'll use `relu`.\n",
    "- To manage overfitting, **Regularization layers** are used. In this layer, we penalise our loss term by adding a L1 (LASSO) or L2 (Ridge),  on the weight vector. Alternatively, we can apply a **dropout layer**, where individual nodes are dropped out of the network to reduce the size of the network.\n",
    "- Last but not least, the **output layer**. This is last layer in the network and receives its inputs from the last hidden layer. In this layer, we define the number of desired outcome values. In our case only 1 neuron in the output layer. A final **activation function** is used to assign the output neurons the desired values. Generally, we use the sigmoid function because of it's inherent binary results, which is highly beneficial to a classification task. "
   ]
  },
  {
   "cell_type": "markdown",
   "metadata": {},
   "source": [
    "## Defining RNN - Recurrent Neural Network\n",
    "---\n"
   ]
  },
  {
   "cell_type": "markdown",
   "metadata": {},
   "source": [
    "**RNNs** are a class of neural networks that allow previous outputs to be used as inputs while having hidden layers. RNNs are used to evaluate ___**Sequences**___ of data, vs. individual data points, where order and time series are important. \n",
    "\n",
    "Time series and text data are great examples of sequence data. Time series (stock price), where historical price matters. Text data, where words need to be in proper order for a letter or document to make sense. RNNs excel at NLP tasks because they can take in text as full sequences of words, from a single sentence, up to an entire corpus or book. Because of their ability to sequencing data, they do not lose information that comes from a traditional bag-of-words vectorization approach. \n",
    "\n",
    "<img src='unrolled-Copy1.gif'>"
   ]
  },
  {
   "cell_type": "markdown",
   "metadata": {},
   "source": [
    "# Model 1\n",
    "___\n"
   ]
  },
  {
   "cell_type": "markdown",
   "metadata": {},
   "source": [
    "Below, we are defining our RNN model, which includes:\n",
    "- **Input layer**\n",
    "- Word **Embedding layer**\n",
    "- **LSTM**: To deal with vanishsing and exploding gradient, we use specialized neurons called LSTM for our RNNs that are able to effectively learn what to remember and what to forget in sequence models. \n",
    "- **Dense layers** with **activation function** = `relu` (Hidden layers)\n",
    "- **Dropout layer**: Forces each hidden unit to learn to work with a randomly chosen sample of other units to generate a more robust way in creating useful features without relying on other hidden units to correct its mistakes. \n",
    "- **Output layer** with **activation funtion** = `sigmoid`"
   ]
  },
  {
   "cell_type": "code",
   "execution_count": 40,
   "metadata": {},
   "outputs": [],
   "source": [
    "from keras.layers import LSTM, Activation, Dense, Dropout, Input, Embedding\n",
    "from keras.optimizers import RMSprop\n",
    "from keras.models import Model\n",
    "\n",
    "def RNN():\n",
    "    \n",
    "    inputs = Input(name='inputs',shape=[maxlen])\n",
    "    \n",
    "    #layers \n",
    "    layer = Embedding(maxwords,50,input_length=maxlen)(inputs)\n",
    "    layer = LSTM(64)(layer)\n",
    "    layer = Dense(256,name='FC1')(layer)\n",
    "    layer = Activation('relu')(layer)\n",
    "    layer = Dropout(0.2)(layer)\n",
    "    \n",
    "    #output layer\n",
    "    layer = Dense(1,name='out_layer')(layer)\n",
    "    layer = Activation('sigmoid')(layer)\n",
    "    model = Model(inputs=inputs,outputs=layer)\n",
    "    return model"
   ]
  },
  {
   "cell_type": "markdown",
   "metadata": {},
   "source": [
    "## Compiling the model \n",
    "---\n",
    "Here, we compile our network by passing a loss function, optimizer, and metrics parameter. \n",
    "- `loss='binary_crossentropy'` : our **loss function** computes the error for a single training example. The cost function is the average of the loss functions of the entire training set. We are using `'binary_crossentropy'` because we have two target classes. If you have more than two target classes, use `'categorical_crossentropy'` as your loss function. \n",
    "- The **optimizer** is a search technique used to update weight values in the model. We are using `optimizer=Adam(0.01)` , Adapative Moment Estimation or **Adam** which uses adaptive learning rates. **Learning rate** determines how fast or slow we want to update our weight values. It should be high enough to take an acceptable time to converge, and low enough to find the global minima. \n",
    "- Performance `metrics` are used to measure performance. We are using `metric=['accuracy']`"
   ]
  },
  {
   "cell_type": "code",
   "execution_count": 41,
   "metadata": {},
   "outputs": [
    {
     "name": "stdout",
     "output_type": "stream",
     "text": [
      "_________________________________________________________________\n",
      "Layer (type)                 Output Shape              Param #   \n",
      "=================================================================\n",
      "inputs (InputLayer)          (None, 200)               0         \n",
      "_________________________________________________________________\n",
      "embedding_1 (Embedding)      (None, 200, 50)           50000     \n",
      "_________________________________________________________________\n",
      "lstm_1 (LSTM)                (None, 64)                29440     \n",
      "_________________________________________________________________\n",
      "FC1 (Dense)                  (None, 256)               16640     \n",
      "_________________________________________________________________\n",
      "activation_1 (Activation)    (None, 256)               0         \n",
      "_________________________________________________________________\n",
      "dropout_1 (Dropout)          (None, 256)               0         \n",
      "_________________________________________________________________\n",
      "out_layer (Dense)            (None, 1)                 257       \n",
      "_________________________________________________________________\n",
      "activation_2 (Activation)    (None, 1)                 0         \n",
      "=================================================================\n",
      "Total params: 96,337\n",
      "Trainable params: 96,337\n",
      "Non-trainable params: 0\n",
      "_________________________________________________________________\n"
     ]
    }
   ],
   "source": [
    "model = RNN()\n",
    "model.summary()\n",
    "model.compile(loss='binary_crossentropy',optimizer=Adam(0.01), metrics=['accuracy'])"
   ]
  },
  {
   "cell_type": "markdown",
   "metadata": {},
   "source": [
    "## Fitting the Model\n",
    "---\n",
    "Here, we train the neural network using our parameters: \n",
    "- We plug in our `X_train` and `y_train` \n",
    "- `batch_size=` , which is the number of training examples in one forward and backward pass.\n",
    "- `epochs=` , which is the number of times the model is exposed to the training dataset. \n",
    "- `validation_split=0.1`, here we're holding out 10% of our training dataset for validation"
   ]
  },
  {
   "cell_type": "code",
   "execution_count": 42,
   "metadata": {},
   "outputs": [
    {
     "name": "stdout",
     "output_type": "stream",
     "text": [
      "Train on 18027 samples, validate on 2004 samples\n",
      "Epoch 1/7\n",
      "18027/18027 [==============================] - 53s 3ms/step - loss: 0.4803 - acc: 0.7688 - val_loss: 0.4484 - val_acc: 0.8064\n",
      "Epoch 2/7\n",
      "18027/18027 [==============================] - 40s 2ms/step - loss: 0.3752 - acc: 0.8314 - val_loss: 0.4253 - val_acc: 0.8089\n",
      "Epoch 3/7\n",
      "18027/18027 [==============================] - 38s 2ms/step - loss: 0.3414 - acc: 0.8487 - val_loss: 0.4474 - val_acc: 0.8234\n",
      "Epoch 4/7\n",
      "18027/18027 [==============================] - 38s 2ms/step - loss: 0.3105 - acc: 0.8605 - val_loss: 0.4076 - val_acc: 0.8179\n",
      "Epoch 5/7\n",
      "18027/18027 [==============================] - 35s 2ms/step - loss: 0.2859 - acc: 0.8713 - val_loss: 0.4996 - val_acc: 0.8184\n",
      "Epoch 6/7\n",
      "18027/18027 [==============================] - 39s 2ms/step - loss: 0.2660 - acc: 0.8792 - val_loss: 0.4628 - val_acc: 0.8094\n",
      "Epoch 7/7\n",
      "18027/18027 [==============================] - 40s 2ms/step - loss: 0.2427 - acc: 0.8870 - val_loss: 0.5101 - val_acc: 0.8069\n"
     ]
    }
   ],
   "source": [
    "model_1_hist = model.fit(X_train, y_train, batch_size=100, epochs=7,\n",
    "         validation_split= 0.1)"
   ]
  },
  {
   "cell_type": "markdown",
   "metadata": {},
   "source": [
    "## Testing the model\n",
    "---\n",
    "Here, we're converting our text into sequential vectors by **tokenizing** it, and **padding** the sequences to standardize the length. "
   ]
  },
  {
   "cell_type": "code",
   "execution_count": 43,
   "metadata": {},
   "outputs": [],
   "source": [
    "X_test = token.texts_to_sequences(X_test)\n",
    "X_test = sequence.pad_sequences(X_test, maxlen=maxlen)"
   ]
  },
  {
   "cell_type": "markdown",
   "metadata": {},
   "source": [
    "## Model accuracy \n",
    "---"
   ]
  },
  {
   "cell_type": "code",
   "execution_count": 44,
   "metadata": {},
   "outputs": [
    {
     "name": "stdout",
     "output_type": "stream",
     "text": [
      "6678/6678 [==============================] - 6s 894us/step\n",
      "Test Result\n",
      " Loss:0.466\n",
      " Accuracy:0.809\n"
     ]
    }
   ],
   "source": [
    "acc_1 = model.evaluate(X_test, y_test)\n",
    "print('Test Result\\n Loss:{:0.3f}\\n Accuracy:{:0.3f}'.format(acc_1[0], acc_1[1]))"
   ]
  },
  {
   "cell_type": "code",
   "execution_count": 45,
   "metadata": {},
   "outputs": [],
   "source": [
    "accuracy_model_1 = ['Model_1', \n",
    "                np.mean(model_1_hist.history['acc']), \n",
    "                np.mean(model_1_hist.history['val_acc']), \n",
    "                acc_1[1]]"
   ]
  },
  {
   "cell_type": "markdown",
   "metadata": {},
   "source": [
    "# Model 2 - with GloVe \n",
    "---\n",
    "Here, we are adding a **pre-trained embedding layer**. We are taking advantage of Word2Vec model that has been pre-trained on massive amount of text data. **GloVe**, which stands for Global Vectors for Word Representation, is a top-tier, open-sourced, industry-standard model which we'll be using. "
   ]
  },
  {
   "cell_type": "markdown",
   "metadata": {},
   "source": [
    "## Loading GloVe, word embedding\n",
    "___\n",
    "We are using `glove6B.50d.txt` from [Stanfor NLP group](https://nlp.stanford.edu/projects/glove/), larger files with way more words are available, and possibly increase GloVe model accuracy, but unfortunately, we do not have that luxury due to lack of memory space. \n"
   ]
  },
  {
   "cell_type": "code",
   "execution_count": 46,
   "metadata": {},
   "outputs": [],
   "source": [
    "#load the glove6B embedding \n",
    "embeddings_index = dict()\n",
    "f = open('glove.6B.50d.txt')\n",
    "\n",
    "for line in f:\n",
    "    # Note: use split(' ') instead of split() if you get an error\n",
    "    values = line.split(' ')\n",
    "    word = values[0]\n",
    "    coefs = np.asarray(values[1:], dtype='float32')\n",
    "    embeddings_index[word] = coefs\n",
    "f.close()"
   ]
  },
  {
   "cell_type": "code",
   "execution_count": 47,
   "metadata": {},
   "outputs": [],
   "source": [
    "# create a weight matrix\n",
    "embedding_matrix = np.zeros((len(token.word_index)+1, 50))\n",
    "\n",
    "for word, i in token.word_index.items():\n",
    "    embedding_vector = embeddings_index.get(word)\n",
    "    if embedding_vector is not None:\n",
    "        embedding_matrix[i] = embedding_vector"
   ]
  },
  {
   "cell_type": "markdown",
   "metadata": {},
   "source": [
    "We define our RNN model with GloVe in the embedding layer. \n",
    "\n",
    "Implementing **Bidirectional RNNs**, which connects two hidden layers of opposite directions to the same output. The goal of BRNN is to increase the amount of input information available by "
   ]
  },
  {
   "cell_type": "code",
   "execution_count": 48,
   "metadata": {},
   "outputs": [],
   "source": [
    "def RNN_GloVe():\n",
    "    \n",
    "    inputs = Input(name='inputs',shape=[maxlen])\n",
    "    \n",
    "    #layers \n",
    "    layer = Embedding(input_dim=embedding_matrix.shape[0], \n",
    "            output_dim= embedding_matrix.shape[1],\n",
    "            weights=[embedding_matrix],\n",
    "            input_length=maxlen, trainable=False)(inputs)\n",
    "    \n",
    "    #layer = SpatialDropout1D(0.5)(layer)\n",
    "    layer = Bidirectional(LSTM(64, return_sequences=True))(layer)\n",
    "    layer = GlobalMaxPool1D()(layer)\n",
    "    layer = Dense(256, name='FC1')(layer)\n",
    "    layer = Activation('relu')(layer)\n",
    "    layer = Dropout(0.2)(layer)\n",
    "    \n",
    "    #output layer\n",
    "    layer = Dense(1,name='out_layer')(layer)\n",
    "    layer = Activation('sigmoid')(layer)\n",
    "    model = Model(inputs=inputs,outputs=layer)\n",
    "    return model"
   ]
  },
  {
   "cell_type": "markdown",
   "metadata": {},
   "source": [
    "## Compiling Model 2\n",
    "---"
   ]
  },
  {
   "cell_type": "code",
   "execution_count": 49,
   "metadata": {},
   "outputs": [],
   "source": [
    "model_2 = RNN_GloVe()\n",
    "model_2.compile(loss='binary_crossentropy', optimizer=Adam(0.01), metrics=['accuracy'])"
   ]
  },
  {
   "cell_type": "markdown",
   "metadata": {},
   "source": [
    "## Model accuracy\n",
    "---"
   ]
  },
  {
   "cell_type": "code",
   "execution_count": 50,
   "metadata": {},
   "outputs": [
    {
     "name": "stdout",
     "output_type": "stream",
     "text": [
      "Train on 18027 samples, validate on 2004 samples\n",
      "Epoch 1/7\n",
      "18027/18027 [==============================] - 80s 4ms/step - loss: 0.5049 - acc: 0.7424 - val_loss: 0.4335 - val_acc: 0.7929\n",
      "Epoch 2/7\n",
      "18027/18027 [==============================] - 71s 4ms/step - loss: 0.4072 - acc: 0.8084 - val_loss: 0.4200 - val_acc: 0.8099\n",
      "Epoch 3/7\n",
      "18027/18027 [==============================] - 71s 4ms/step - loss: 0.3703 - acc: 0.8283 - val_loss: 0.4201 - val_acc: 0.8029\n",
      "Epoch 4/7\n",
      "18027/18027 [==============================] - 73s 4ms/step - loss: 0.3464 - acc: 0.8422 - val_loss: 0.4233 - val_acc: 0.8199\n",
      "Epoch 5/7\n",
      "18027/18027 [==============================] - 74s 4ms/step - loss: 0.3202 - acc: 0.8527 - val_loss: 0.4150 - val_acc: 0.8273\n",
      "Epoch 6/7\n",
      "18027/18027 [==============================] - 77s 4ms/step - loss: 0.2965 - acc: 0.8663 - val_loss: 0.4357 - val_acc: 0.8224\n",
      "Epoch 7/7\n",
      "18027/18027 [==============================] - 75s 4ms/step - loss: 0.2739 - acc: 0.8797 - val_loss: 0.4431 - val_acc: 0.8234\n",
      "Result\n",
      "\n",
      "6678/6678 [==============================] - 11s 2ms/step\n",
      "Test Result Model 2 RNN w/GloVe and Adam optimizer \n",
      " Loss:0.423\n",
      " Accuracy:0.816\n"
     ]
    }
   ],
   "source": [
    "#fitting model 2\n",
    "model_2_hist = model_2.fit(X_train, y_train, batch_size=100, epochs=7,\n",
    "         validation_split= 0.1)\n",
    "\n",
    "print('Result\\n')\n",
    "acc_2 = model_2.evaluate(X_test, y_test)\n",
    "print('Test Result Model 2 RNN w/GloVe and Adam optimizer \\n Loss:{:0.3f}\\n Accuracy:{:0.3f}'.format(acc_2[0], acc_2[1]))"
   ]
  },
  {
   "cell_type": "code",
   "execution_count": 51,
   "metadata": {},
   "outputs": [],
   "source": [
    "accuracy_model_2 = ['Model_2', \n",
    "                np.mean(model_2_hist.history['acc']), \n",
    "                np.mean(model_2_hist.history['val_acc']), \n",
    "                acc_2[1]]"
   ]
  },
  {
   "cell_type": "markdown",
   "metadata": {},
   "source": [
    "# Model 3 - with GloVe + optimizer = RMSprop \n",
    "---"
   ]
  },
  {
   "cell_type": "markdown",
   "metadata": {},
   "source": [
    "## Compiling model 3\n",
    "---\n",
    "Below we are using the same `RNN_GloVe()` with a different optimizer, `optimizer=RMSprop()` to see if the results vary from using `optimizer=Adam()`. "
   ]
  },
  {
   "cell_type": "code",
   "execution_count": 52,
   "metadata": {},
   "outputs": [],
   "source": [
    "model_3 = RNN_GloVe()\n",
    "model_3.compile(loss='binary_crossentropy', optimizer=RMSprop(), metrics=['accuracy'])"
   ]
  },
  {
   "cell_type": "markdown",
   "metadata": {},
   "source": [
    "## Model accuracy \n",
    "---"
   ]
  },
  {
   "cell_type": "code",
   "execution_count": 53,
   "metadata": {},
   "outputs": [
    {
     "name": "stdout",
     "output_type": "stream",
     "text": [
      "Train on 18027 samples, validate on 2004 samples\n",
      "Epoch 1/7\n",
      "18027/18027 [==============================] - 76s 4ms/step - loss: 0.5811 - acc: 0.6826 - val_loss: 0.5092 - val_acc: 0.7450\n",
      "Epoch 2/7\n",
      "18027/18027 [==============================] - 71s 4ms/step - loss: 0.4605 - acc: 0.7803 - val_loss: 0.4714 - val_acc: 0.7690\n",
      "Epoch 3/7\n",
      "18027/18027 [==============================] - 71s 4ms/step - loss: 0.4197 - acc: 0.8031 - val_loss: 0.5299 - val_acc: 0.7500\n",
      "Epoch 4/7\n",
      "18027/18027 [==============================] - 70s 4ms/step - loss: 0.3915 - acc: 0.8193 - val_loss: 0.4485 - val_acc: 0.7899\n",
      "Epoch 5/7\n",
      "18027/18027 [==============================] - 71s 4ms/step - loss: 0.3726 - acc: 0.8284 - val_loss: 0.4335 - val_acc: 0.7959\n",
      "Epoch 6/7\n",
      "18027/18027 [==============================] - 72s 4ms/step - loss: 0.3556 - acc: 0.8402 - val_loss: 0.4880 - val_acc: 0.7769\n",
      "Epoch 7/7\n",
      "18027/18027 [==============================] - 70s 4ms/step - loss: 0.3400 - acc: 0.8461 - val_loss: 0.4243 - val_acc: 0.8139\n",
      "Result\n",
      "\n",
      "6678/6678 [==============================] - 10s 2ms/step\n",
      "Test Result Model 3 RNN w/GloVe and RMSprop optimizer \n",
      " Loss:0.416\n",
      " Accuracy:0.810\n"
     ]
    }
   ],
   "source": [
    "#fitting model 2\n",
    "model_3_hist = model_3.fit(X_train, y_train, batch_size=100, epochs=7,\n",
    "         validation_split= 0.1)\n",
    "\n",
    "print('Result\\n')\n",
    "acc_3 = model_3.evaluate(X_test, y_test)\n",
    "print('Test Result Model 3 RNN w/GloVe and RMSprop optimizer \\n Loss:{:0.3f}\\n Accuracy:{:0.3f}'.format(acc_3[0], acc_3[1]))"
   ]
  },
  {
   "cell_type": "code",
   "execution_count": 54,
   "metadata": {},
   "outputs": [],
   "source": [
    "accuracy_model_3 = ['Model_3', \n",
    "                np.mean(model_3_hist.history['acc']), \n",
    "                np.mean(model_3_hist.history['val_acc']), \n",
    "                acc_3[1]]"
   ]
  },
  {
   "cell_type": "markdown",
   "metadata": {},
   "source": [
    "# Conclusions\n",
    "---"
   ]
  },
  {
   "cell_type": "markdown",
   "metadata": {},
   "source": [
    "## Model comparison "
   ]
  },
  {
   "cell_type": "code",
   "execution_count": 55,
   "metadata": {},
   "outputs": [],
   "source": [
    "# create dataframe\n",
    "comparison = pd.DataFrame([accuracy_model_1])\n",
    "# append all other scores\n",
    "comparison = comparison.append([accuracy_model_2, accuracy_model_3])"
   ]
  },
  {
   "cell_type": "code",
   "execution_count": 56,
   "metadata": {},
   "outputs": [],
   "source": [
    "comparison.columns = ['Algorithm', 'Training Accuracy', 'Validation Accuracy', 'Testing Accuracy']\n",
    "comparison.set_index(['Algorithm'], inplace=True)"
   ]
  },
  {
   "cell_type": "code",
   "execution_count": 57,
   "metadata": {},
   "outputs": [
    {
     "data": {
      "text/html": [
       "<div>\n",
       "<style scoped>\n",
       "    .dataframe tbody tr th:only-of-type {\n",
       "        vertical-align: middle;\n",
       "    }\n",
       "\n",
       "    .dataframe tbody tr th {\n",
       "        vertical-align: top;\n",
       "    }\n",
       "\n",
       "    .dataframe thead th {\n",
       "        text-align: right;\n",
       "    }\n",
       "</style>\n",
       "<table border=\"1\" class=\"dataframe\">\n",
       "  <thead>\n",
       "    <tr style=\"text-align: right;\">\n",
       "      <th></th>\n",
       "      <th>Training Accuracy</th>\n",
       "      <th>Validation Accuracy</th>\n",
       "      <th>Testing Accuracy</th>\n",
       "      <th>Train_Test (+/-)</th>\n",
       "    </tr>\n",
       "    <tr>\n",
       "      <th>Algorithm</th>\n",
       "      <th></th>\n",
       "      <th></th>\n",
       "      <th></th>\n",
       "      <th></th>\n",
       "    </tr>\n",
       "  </thead>\n",
       "  <tbody>\n",
       "    <tr>\n",
       "      <th>Model_1</th>\n",
       "      <td>0.849551</td>\n",
       "      <td>0.813017</td>\n",
       "      <td>0.808925</td>\n",
       "      <td>-0.040626</td>\n",
       "    </tr>\n",
       "    <tr>\n",
       "      <th>Model_2</th>\n",
       "      <td>0.831427</td>\n",
       "      <td>0.814086</td>\n",
       "      <td>0.816113</td>\n",
       "      <td>-0.015315</td>\n",
       "    </tr>\n",
       "    <tr>\n",
       "      <th>Model_3</th>\n",
       "      <td>0.799990</td>\n",
       "      <td>0.777231</td>\n",
       "      <td>0.809524</td>\n",
       "      <td>0.009533</td>\n",
       "    </tr>\n",
       "  </tbody>\n",
       "</table>\n",
       "</div>"
      ],
      "text/plain": [
       "           Training Accuracy  Validation Accuracy  Testing Accuracy  \\\n",
       "Algorithm                                                             \n",
       "Model_1             0.849551             0.813017          0.808925   \n",
       "Model_2             0.831427             0.814086          0.816113   \n",
       "Model_3             0.799990             0.777231          0.809524   \n",
       "\n",
       "           Train_Test (+/-)  \n",
       "Algorithm                    \n",
       "Model_1           -0.040626  \n",
       "Model_2           -0.015315  \n",
       "Model_3            0.009533  "
      ]
     },
     "execution_count": 57,
     "metadata": {},
     "output_type": "execute_result"
    }
   ],
   "source": [
    "comparison['Train_Test (+/-)'] = comparison['Testing Accuracy']  - comparison['Training Accuracy']\n",
    "comparisonmodel"
   ]
  },
  {
   "cell_type": "markdown",
   "metadata": {},
   "source": [
    "- Based on our training accuracy, Model 1 had the best result. As we move down the columns, to our actual test results, Model 2 has the best result. \n",
    "- But, in terms of predictability, Model 3 is the winner. As shown above, Model 3 increased its accuracy with unseen data."
   ]
  },
  {
   "cell_type": "markdown",
   "metadata": {},
   "source": [
    "## Visualizations\n",
    "---\n",
    "Below is a visualization of our model's accuracy and loss. The dotted line show their respective test data maximums. "
   ]
  },
  {
   "cell_type": "code",
   "execution_count": 58,
   "metadata": {},
   "outputs": [],
   "source": [
    "#crating accuracy and loss plot function \n",
    "\n",
    "def acc_loss_plot(model, model_name='Insert_Model_Name'):\n",
    "    fig, (ax1, ax2) = plt.subplots(1,2,figsize=(15,5))\n",
    "    fig.suptitle(model_name, fontsize=16)\n",
    "    ax1.plot(model.history['acc'])\n",
    "    ax1.plot(model.history['val_acc'])\n",
    "    vline_cut = np.where(model.history['val_acc'] == np.max(model.history['val_acc']))[0][0]\n",
    "    ax1.axvline(x=vline_cut, color='k', linestyle='--')\n",
    "    ax1.set_title(\"Model Accuracy\")\n",
    "    ax1.legend(['train', 'test'])\n",
    "    ax1.set_ylabel('Accuracy')\n",
    "    ax1.set_xlabel('Epochs')\n",
    "\n",
    "    ax2.plot(model.history['loss'])\n",
    "    ax2.plot(model.history['val_loss'])\n",
    "    vline_cut = np.where(model.history['val_loss'] == np.min(model.history['val_loss']))[0][0]\n",
    "    ax2.axvline(x=vline_cut, color='k', linestyle='--')\n",
    "    ax2.set_title(\"Model Loss\")\n",
    "    ax2.legend(['train', 'test'])\n",
    "    ax2.set_ylabel('Accuracy')\n",
    "    ax2.set_xlabel('Epochs')\n",
    "\n",
    "    plt.show()"
   ]
  },
  {
   "cell_type": "code",
   "execution_count": 59,
   "metadata": {},
   "outputs": [
    {
     "data": {
      "image/png": "[encoded data removed]",
      "text/plain": [
       "<Figure size 1080x360 with 2 Axes>"
      ]
     },
     "metadata": {
      "needs_background": "light"
     },
     "output_type": "display_data"
    },
    {
     "data": {
      "image/png": "[encoded data removed]",
      "text/plain": [
       "<Figure size 1080x360 with 2 Axes>"
      ]
     },
     "metadata": {
      "needs_background": "light"
     },
     "output_type": "display_data"
    },
    {
     "data": {
      "image/png": "[encoded data removed]",
      "text/plain": [
       "<Figure size 1080x360 with 2 Axes>"
      ]
     },
     "metadata": {
      "needs_background": "light"
     },
     "output_type": "display_data"
    }
   ],
   "source": [
    "acc_loss_plot(model_1_hist, 'Model 1')\n",
    "acc_loss_plot(model_2_hist, 'Model 2')\n",
    "acc_loss_plot(model_3_hist, 'Model 3')"
   ]
  },
  {
   "cell_type": "markdown",
   "metadata": {},
   "source": [
    "## Further work\n",
    "---\n",
    "- We're curious to see how much accuracy increases by the following: \n",
    "    - larger GloVe model \n",
    "    - tweak the number of nodes \n",
    "    - tweak the number of hidden layers\n",
    "    - different dropout patterns\n",
    "    - any many more\n",
    "    \n",
    "    - Cross-validate \n",
    "    - Business case \n",
    "    - Use Lemma data "
   ]
  },
  {
   "cell_type": "code",
   "execution_count": 60,
   "metadata": {},
   "outputs": [
    {
     "name": "stdout",
     "output_type": "stream",
     "text": [
      "--- 1381.9429438114166 seconds ---\n"
     ]
    }
   ],
   "source": [
    "print(\"--- %s seconds ---\" % (time.time() - start_time))  "
   ]
  },
  {
   "cell_type": "markdown",
   "metadata": {},
   "source": [
    "# Cross-validation "
   ]
  },
  {
   "cell_type": "code",
   "execution_count": 71,
   "metadata": {},
   "outputs": [],
   "source": [
    "import numpy as np\n",
    "from keras import models\n",
    "from keras import layers\n",
    "from keras.wrappers.scikit_learn import KerasClassifier\n",
    "from sklearn.model_selection import cross_val_score\n",
    "from sklearn.datasets import make_classification"
   ]
  },
  {
   "cell_type": "code",
   "execution_count": null,
   "metadata": {},
   "outputs": [],
   "source": [
    "def RNN_GloVe():\n",
    "    \n",
    "    inputs = Input(name='inputs',shape=[maxlen])\n",
    "    \n",
    "    #layers \n",
    "    layer = Embedding(input_dim=embedding_matrix.shape[0], \n",
    "            output_dim= embedding_matrix.shape[1],\n",
    "            weights=[embedding_matrix],\n",
    "            input_length=maxlen, trainable=False)(inputs)\n",
    "    \n",
    "    #layer = SpatialDropout1D(0.5)(layer)\n",
    "    layer = Bidirectional(LSTM(64, return_sequences=True))(layer)\n",
    "    layer = GlobalMaxPool1D()(layer)\n",
    "    layer = Dense(256, name='FC1')(layer)\n",
    "    layer = Activation('relu')(layer)\n",
    "    layer = Dropout(0.2)(layer)\n",
    "    \n",
    "    #output layer\n",
    "    layer = Dense(1,name='out_layer')(layer)\n",
    "    layer = Activation('sigmoid')(layer)\n",
    "    model = Model(inputs=inputs,outputs=layer)\n",
    "    return model"
   ]
  },
  {
   "cell_type": "code",
   "execution_count": 77,
   "metadata": {},
   "outputs": [],
   "source": [
    "def network_model():\n",
    "    network = models.Sequential()\n",
    "    network.add(layers.Embedding(input_dim=embedding_matrix.shape[0], \n",
    "            output_dim= embedding_matrix.shape[1],\n",
    "            weights=[embedding_matrix],\n",
    "            input_length=maxlen, trainable=False))\n",
    "    network.add(layers.Bidirectional(LSTM(64, return_sequences=True)))\n",
    "    network.add(layers.Dense(units=256, name='FC1', activation='relu'))\n",
    "    network.add(layers.Dense(units=1, name='out_layer', activation='sigmoid'))\n",
    "    network.compile(loss='binary_crossentropy', optimizer=Adam(0.01), metrics=['accuracy'])\n",
    "    return network"
   ]
  },
  {
   "cell_type": "code",
   "execution_count": 78,
   "metadata": {},
   "outputs": [],
   "source": [
    "neural_network = KerasClassifier(build_fn=network_model, \n",
    "                                epochs=4, \n",
    "                                batch_size=100,\n",
    "                                validation_split=0.1)"
   ]
  },
  {
   "cell_type": "code",
   "execution_count": 80,
   "metadata": {},
   "outputs": [
    {
     "ename": "TypeError",
     "evalue": "If no scoring is specified, the estimator passed should have a 'score' method. The estimator <keras.engine.training.Model object at 0x1a23e18dd8> does not.",
     "output_type": "error",
     "traceback": [
      "\u001b[0;31m---------------------------------------------------------------------------\u001b[0m",
      "\u001b[0;31mTypeError\u001b[0m                                 Traceback (most recent call last)",
      "\u001b[0;32m<ipython-input-80-64f1ca21567f>\u001b[0m in \u001b[0;36m<module>\u001b[0;34m()\u001b[0m\n\u001b[0;32m----> 1\u001b[0;31m \u001b[0mcross_val_score\u001b[0m\u001b[0;34m(\u001b[0m\u001b[0mmodel_3\u001b[0m\u001b[0;34m,\u001b[0m \u001b[0mX_train\u001b[0m\u001b[0;34m,\u001b[0m \u001b[0my_train\u001b[0m\u001b[0;34m,\u001b[0m \u001b[0mcv\u001b[0m\u001b[0;34m=\u001b[0m\u001b[0;36m3\u001b[0m\u001b[0;34m)\u001b[0m\u001b[0;34m\u001b[0m\u001b[0m\n\u001b[0m",
      "\u001b[0;32m/anaconda3/envs/learn-env/lib/python3.6/site-packages/sklearn/model_selection/_validation.py\u001b[0m in \u001b[0;36mcross_val_score\u001b[0;34m(estimator, X, y, groups, scoring, cv, n_jobs, verbose, fit_params, pre_dispatch, error_score)\u001b[0m\n\u001b[1;32m    392\u001b[0m     \"\"\"\n\u001b[1;32m    393\u001b[0m     \u001b[0;31m# To ensure multimetric format is not supported\u001b[0m\u001b[0;34m\u001b[0m\u001b[0;34m\u001b[0m\u001b[0m\n\u001b[0;32m--> 394\u001b[0;31m     \u001b[0mscorer\u001b[0m \u001b[0;34m=\u001b[0m \u001b[0mcheck_scoring\u001b[0m\u001b[0;34m(\u001b[0m\u001b[0mestimator\u001b[0m\u001b[0;34m,\u001b[0m \u001b[0mscoring\u001b[0m\u001b[0;34m=\u001b[0m\u001b[0mscoring\u001b[0m\u001b[0;34m)\u001b[0m\u001b[0;34m\u001b[0m\u001b[0m\n\u001b[0m\u001b[1;32m    395\u001b[0m \u001b[0;34m\u001b[0m\u001b[0m\n\u001b[1;32m    396\u001b[0m     cv_results = cross_validate(estimator=estimator, X=X, y=y, groups=groups,\n",
      "\u001b[0;32m/anaconda3/envs/learn-env/lib/python3.6/site-packages/sklearn/metrics/scorer.py\u001b[0m in \u001b[0;36mcheck_scoring\u001b[0;34m(estimator, scoring, allow_none)\u001b[0m\n\u001b[1;32m    294\u001b[0m                 \u001b[0;34m\"If no scoring is specified, the estimator passed should \"\u001b[0m\u001b[0;34m\u001b[0m\u001b[0m\n\u001b[1;32m    295\u001b[0m                 \u001b[0;34m\"have a 'score' method. The estimator %r does not.\"\u001b[0m\u001b[0;34m\u001b[0m\u001b[0m\n\u001b[0;32m--> 296\u001b[0;31m                 % estimator)\n\u001b[0m\u001b[1;32m    297\u001b[0m     \u001b[0;32melif\u001b[0m \u001b[0misinstance\u001b[0m\u001b[0;34m(\u001b[0m\u001b[0mscoring\u001b[0m\u001b[0;34m,\u001b[0m \u001b[0mIterable\u001b[0m\u001b[0;34m)\u001b[0m\u001b[0;34m:\u001b[0m\u001b[0;34m\u001b[0m\u001b[0m\n\u001b[1;32m    298\u001b[0m         raise ValueError(\"For evaluating multiple scores, use \"\n",
      "\u001b[0;31mTypeError\u001b[0m: If no scoring is specified, the estimator passed should have a 'score' method. The estimator <keras.engine.training.Model object at 0x1a23e18dd8> does not."
     ]
    }
   ],
   "source": [
    "cross_val_score(model_3, X_train, y_train, cv=3)"
   ]
  },
  {
   "cell_type": "code",
   "execution_count": null,
   "metadata": {},
   "outputs": [],
   "source": [
    "\n",
    "print('Result\\n')\n",
    "acc_2 = model_2.evaluate(X_test, y_test)"
   ]
  },
  {
   "cell_type": "code",
   "execution_count": 68,
   "metadata": {
    "hidden": true
   },
   "outputs": [
    {
     "data": {
      "text/plain": [
       "0    former versace store clerk sues over secret 'b...\n",
       "1    the 'roseanne' revival catches up to our thorn...\n",
       "2    mom starting to fear son's web series closest ...\n",
       "3    boehner just wants wife to listen, not come up...\n",
       "4    j.k. rowling wishes snape happy birthday in th...\n",
       "Name: headline, dtype: object"
      ]
     },
     "execution_count": 68,
     "metadata": {},
     "output_type": "execute_result"
    }
   ],
   "source": [
    "df.headline.head()"
   ]
  },
  {
   "cell_type": "code",
   "execution_count": null,
   "metadata": {
    "hidden": true
   },
   "outputs": [],
   "source": []
  }
 ],
 "metadata": {
  "kernelspec": {
   "display_name": "Python 3",
   "language": "python",
   "name": "python3"
  },
  "language_info": {
   "codemirror_mode": {
    "name": "ipython",
    "version": 3
   },
   "file_extension": ".py",
   "mimetype": "text/x-python",
   "name": "python",
   "nbconvert_exporter": "python",
   "pygments_lexer": "ipython3",
   "version": "3.6.6"
  },
  "toc": {
   "base_numbering": 1,
   "nav_menu": {},
   "number_sections": true,
   "sideBar": true,
   "skip_h1_title": false,
   "title_cell": "Table of Contents",
   "title_sidebar": "Contents",
   "toc_cell": false,
   "toc_position": {
    "height": "764.41px",
    "left": "29.9861px",
    "top": "294.705px",
    "width": "159.497px"
   },
   "toc_section_display": true,
   "toc_window_display": true
  },
  "varInspector": {
   "cols": {
    "lenName": 16,
    "lenType": 16,
    "lenVar": 40
   },
   "kernels_config": {
    "python": {
     "delete_cmd_postfix": "",
     "delete_cmd_prefix": "del ",
     "library": "var_list.py",
     "varRefreshCmd": "print(var_dic_list())"
    },
    "r": {
     "delete_cmd_postfix": ") ",
     "delete_cmd_prefix": "rm(",
     "library": "var_list.r",
     "varRefreshCmd": "cat(var_dic_list()) "
    }
   },
   "oldHeight": 122,
   "position": {
    "height": "40px",
    "left": "1122px",
    "right": "20px",
    "top": "120px",
    "width": "250px"
   },
   "types_to_exclude": [
    "module",
    "function",
    "builtin_function_or_method",
    "instance",
    "_Feature"
   ],
   "varInspector_section_display": "none",
   "window_display": false
  }
 },
 "nbformat": 4,
 "nbformat_minor": 2
}
